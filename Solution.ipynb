{
 "cells": [
  {
   "cell_type": "code",
   "execution_count": 1,
   "id": "7779643e-e5a6-4e85-93be-e9ddbe274275",
   "metadata": {},
   "outputs": [],
   "source": [
    "import pandas as pd\n",
    "import numpy as np\n",
    "import seaborn as sns\n",
    "from scipy.stats import stats\n",
    "import scipy.stats as ss\n",
    "import os\n",
    "from sklearn.preprocessing import LabelEncoder\n",
    "import lightgbm as lgb\n",
    "from sklearn.metrics import log_loss\n",
    "import matplotlib.pyplot as plt\n",
    "from sklearn.model_selection import KFold, StratifiedKFold\n",
    "import catboost as cat\n",
    "from sklearn.linear_model import LogisticRegression\n",
    "import category_encoders as ce\n",
    "from category_encoders import MEstimateEncoder\n",
    "from sklearn.model_selection import train_test_split\n",
    "import optuna\n",
    "from itertools import combinations"
   ]
  },
  {
   "cell_type": "code",
   "execution_count": 2,
   "id": "cc44583d-9b36-41e6-b00e-67730ac86abf",
   "metadata": {},
   "outputs": [],
   "source": [
    "path = '..//'"
   ]
  },
  {
   "cell_type": "code",
   "execution_count": 3,
   "id": "5a11b5b3-9f81-4f12-881f-b5a72bc33b95",
   "metadata": {},
   "outputs": [],
   "source": [
    "train = pd.read_csv(os.path.join(path,'train.csv'))\n",
    "test = pd.read_csv(os.path.join(path,'test.csv'))"
   ]
  },
  {
   "cell_type": "code",
   "execution_count": 29,
   "id": "a8b52835-dc71-453d-babf-aab45e524c50",
   "metadata": {},
   "outputs": [
    {
     "data": {
      "text/html": [
       "<div>\n",
       "<style scoped>\n",
       "    .dataframe tbody tr th:only-of-type {\n",
       "        vertical-align: middle;\n",
       "    }\n",
       "\n",
       "    .dataframe tbody tr th {\n",
       "        vertical-align: top;\n",
       "    }\n",
       "\n",
       "    .dataframe thead th {\n",
       "        text-align: right;\n",
       "    }\n",
       "</style>\n",
       "<table border=\"1\" class=\"dataframe\">\n",
       "  <thead>\n",
       "    <tr style=\"text-align: right;\">\n",
       "      <th></th>\n",
       "      <th>ID</th>\n",
       "      <th>AGE</th>\n",
       "      <th>GENDER</th>\n",
       "      <th>DRIVING_EXPERIENCE</th>\n",
       "      <th>EDUCATION</th>\n",
       "      <th>INCOME</th>\n",
       "      <th>CREDIT_SCORE</th>\n",
       "      <th>VEHICLE_OWNERSHIP</th>\n",
       "      <th>VEHICLE_YEAR</th>\n",
       "      <th>MARRIED</th>\n",
       "      <th>CHILDREN</th>\n",
       "      <th>POSTAL_CODE</th>\n",
       "      <th>ANNUAL_MILEAGE</th>\n",
       "      <th>SPEEDING_VIOLATIONS</th>\n",
       "      <th>DUIS</th>\n",
       "      <th>PAST_ACCIDENTS</th>\n",
       "      <th>TYPE_OF_VEHICLE</th>\n",
       "    </tr>\n",
       "  </thead>\n",
       "  <tbody>\n",
       "    <tr>\n",
       "      <th>0</th>\n",
       "      <td>352928</td>\n",
       "      <td>2</td>\n",
       "      <td>1</td>\n",
       "      <td>1</td>\n",
       "      <td>1</td>\n",
       "      <td>3</td>\n",
       "      <td>0.814707</td>\n",
       "      <td>1.0</td>\n",
       "      <td>0</td>\n",
       "      <td>0.0</td>\n",
       "      <td>1.0</td>\n",
       "      <td>10238</td>\n",
       "      <td>10000</td>\n",
       "      <td>0</td>\n",
       "      <td>0</td>\n",
       "      <td>0</td>\n",
       "      <td>0</td>\n",
       "    </tr>\n",
       "    <tr>\n",
       "      <th>1</th>\n",
       "      <td>38579</td>\n",
       "      <td>1</td>\n",
       "      <td>0</td>\n",
       "      <td>2</td>\n",
       "      <td>0</td>\n",
       "      <td>2</td>\n",
       "      <td>0.344051</td>\n",
       "      <td>1.0</td>\n",
       "      <td>1</td>\n",
       "      <td>0.0</td>\n",
       "      <td>0.0</td>\n",
       "      <td>34073</td>\n",
       "      <td>13000</td>\n",
       "      <td>0</td>\n",
       "      <td>0</td>\n",
       "      <td>0</td>\n",
       "      <td>2</td>\n",
       "    </tr>\n",
       "    <tr>\n",
       "      <th>2</th>\n",
       "      <td>504022</td>\n",
       "      <td>2</td>\n",
       "      <td>1</td>\n",
       "      <td>1</td>\n",
       "      <td>1</td>\n",
       "      <td>2</td>\n",
       "      <td>0.620691</td>\n",
       "      <td>0.0</td>\n",
       "      <td>0</td>\n",
       "      <td>1.0</td>\n",
       "      <td>0.0</td>\n",
       "      <td>10238</td>\n",
       "      <td>12000</td>\n",
       "      <td>0</td>\n",
       "      <td>0</td>\n",
       "      <td>0</td>\n",
       "      <td>1</td>\n",
       "    </tr>\n",
       "    <tr>\n",
       "      <th>3</th>\n",
       "      <td>202404</td>\n",
       "      <td>1</td>\n",
       "      <td>1</td>\n",
       "      <td>2</td>\n",
       "      <td>0</td>\n",
       "      <td>2</td>\n",
       "      <td>0.689658</td>\n",
       "      <td>1.0</td>\n",
       "      <td>0</td>\n",
       "      <td>1.0</td>\n",
       "      <td>1.0</td>\n",
       "      <td>10238</td>\n",
       "      <td>16000</td>\n",
       "      <td>1</td>\n",
       "      <td>0</td>\n",
       "      <td>0</td>\n",
       "      <td>1</td>\n",
       "    </tr>\n",
       "    <tr>\n",
       "      <th>4</th>\n",
       "      <td>527913</td>\n",
       "      <td>3</td>\n",
       "      <td>1</td>\n",
       "      <td>1</td>\n",
       "      <td>1</td>\n",
       "      <td>0</td>\n",
       "      <td>0.755666</td>\n",
       "      <td>0.0</td>\n",
       "      <td>0</td>\n",
       "      <td>0.0</td>\n",
       "      <td>1.0</td>\n",
       "      <td>92101</td>\n",
       "      <td>14000</td>\n",
       "      <td>2</td>\n",
       "      <td>0</td>\n",
       "      <td>0</td>\n",
       "      <td>0</td>\n",
       "    </tr>\n",
       "  </tbody>\n",
       "</table>\n",
       "</div>"
      ],
      "text/plain": [
       "       ID  AGE  GENDER  DRIVING_EXPERIENCE  EDUCATION  INCOME  CREDIT_SCORE  \\\n",
       "0  352928    2       1                   1          1       3      0.814707   \n",
       "1   38579    1       0                   2          0       2      0.344051   \n",
       "2  504022    2       1                   1          1       2      0.620691   \n",
       "3  202404    1       1                   2          0       2      0.689658   \n",
       "4  527913    3       1                   1          1       0      0.755666   \n",
       "\n",
       "   VEHICLE_OWNERSHIP  VEHICLE_YEAR  MARRIED  CHILDREN  POSTAL_CODE  \\\n",
       "0                1.0             0      0.0       1.0        10238   \n",
       "1                1.0             1      0.0       0.0        34073   \n",
       "2                0.0             0      1.0       0.0        10238   \n",
       "3                1.0             0      1.0       1.0        10238   \n",
       "4                0.0             0      0.0       1.0        92101   \n",
       "\n",
       "   ANNUAL_MILEAGE  SPEEDING_VIOLATIONS  DUIS  PAST_ACCIDENTS  TYPE_OF_VEHICLE  \n",
       "0           10000                    0     0               0                0  \n",
       "1           13000                    0     0               0                2  \n",
       "2           12000                    0     0               0                1  \n",
       "3           16000                    1     0               0                1  \n",
       "4           14000                    2     0               0                0  "
      ]
     },
     "execution_count": 29,
     "metadata": {},
     "output_type": "execute_result"
    }
   ],
   "source": [
    "test.head()"
   ]
  },
  {
   "cell_type": "code",
   "execution_count": 5,
   "id": "cfbed653-0427-4d53-ab9e-12cf5f7d1a6f",
   "metadata": {},
   "outputs": [
    {
     "name": "stderr",
     "output_type": "stream",
     "text": [
      "d:\\python3.9\\lib\\site-packages\\seaborn\\_decorators.py:36: FutureWarning: Pass the following variable as a keyword arg: x. From version 0.12, the only valid positional argument will be `data`, and passing other arguments without an explicit keyword will result in an error or misinterpretation.\n",
      "  warnings.warn(\n"
     ]
    },
    {
     "data": {
      "text/plain": [
       "<AxesSubplot:xlabel='OUTCOME', ylabel='count'>"
      ]
     },
     "execution_count": 5,
     "metadata": {},
     "output_type": "execute_result"
    },
    {
     "data": {
      "image/png": "[encoded data removed]",
      "text/plain": [
       "<Figure size 432x288 with 1 Axes>"
      ]
     },
     "metadata": {
      "needs_background": "light"
     },
     "output_type": "display_data"
    }
   ],
   "source": [
    "sns.countplot(train['OUTCOME'])"
   ]
  },
  {
   "cell_type": "code",
   "execution_count": 108,
   "id": "19f21cfc-7ecb-4d46-a57c-80f6a22fc74a",
   "metadata": {},
   "outputs": [
    {
     "data": {
      "text/plain": [
       "<AxesSubplot:xlabel='DRIVING_EXPERIENCE', ylabel='count'>"
      ]
     },
     "execution_count": 108,
     "metadata": {},
     "output_type": "execute_result"
    },
    {
     "data": {
      "image/png": "[encoded data removed]",
      "text/plain": [
       "<Figure size 432x288 with 1 Axes>"
      ]
     },
     "metadata": {
      "needs_background": "light"
     },
     "output_type": "display_data"
    }
   ],
   "source": [
    "sns.countplot(x=\"DRIVING_EXPERIENCE\", hue=\"OUTCOME\", data=train)"
   ]
  },
  {
   "cell_type": "code",
   "execution_count": 166,
   "id": "981bfb7d-6e9f-4e2e-a317-7babb08df4d7",
   "metadata": {},
   "outputs": [
    {
     "data": {
      "text/plain": [
       "<AxesSubplot:xlabel='ANNUAL_MILEAGE', ylabel='count'>"
      ]
     },
     "execution_count": 166,
     "metadata": {},
     "output_type": "execute_result"
    },
    {
     "data": {
      "image/png": "[encoded data removed]",
      "text/plain": [
       "<Figure size 432x288 with 1 Axes>"
      ]
     },
     "metadata": {
      "needs_background": "light"
     },
     "output_type": "display_data"
    }
   ],
   "source": [
    "sns.countplot(x=\"ANNUAL_MILEAGE\", hue=\"OUTCOME\", data=train)"
   ]
  },
  {
   "cell_type": "code",
   "execution_count": 113,
   "id": "086014c0-b641-4a84-b01d-ef5bcc73bd04",
   "metadata": {},
   "outputs": [
    {
     "data": {
      "text/plain": [
       "array(['20-29y', '30y+', '0-9y', '10-19y'], dtype=object)"
      ]
     },
     "execution_count": 113,
     "metadata": {},
     "output_type": "execute_result"
    }
   ],
   "source": [
    "train['DRIVING_EXPERIENCE'].unique()"
   ]
  },
  {
   "cell_type": "code",
   "execution_count": 24,
   "id": "a080cd31-afc1-4063-8aa9-d6d8edfd9f62",
   "metadata": {},
   "outputs": [
    {
     "data": {
      "text/plain": [
       "33"
      ]
     },
     "execution_count": 24,
     "metadata": {},
     "output_type": "execute_result"
    }
   ],
   "source": [
    "len(test.columns)"
   ]
  },
  {
   "cell_type": "code",
   "execution_count": 14,
   "id": "5879c12d-be34-41c5-9d7a-96464671c4d7",
   "metadata": {},
   "outputs": [
    {
     "data": {
      "text/plain": [
       "Index(['ID', 'AGE', 'GENDER', 'DRIVING_EXPERIENCE', 'EDUCATION', 'INCOME',\n",
       "       'CREDIT_SCORE', 'VEHICLE_OWNERSHIP', 'VEHICLE_YEAR', 'MARRIED',\n",
       "       'CHILDREN', 'POSTAL_CODE', 'ANNUAL_MILEAGE', 'SPEEDING_VIOLATIONS',\n",
       "       'DUIS', 'PAST_ACCIDENTS', 'OUTCOME', 'TYPE_OF_VEHICLE'],\n",
       "      dtype='object')"
      ]
     },
     "execution_count": 14,
     "metadata": {},
     "output_type": "execute_result"
    }
   ],
   "source": [
    "train.columns"
   ]
  },
  {
   "cell_type": "code",
   "execution_count": 5,
   "id": "f16dc87b-7fc5-4541-a4cb-407f1d05c421",
   "metadata": {},
   "outputs": [],
   "source": [
    "cat_cols = [ 'GENDER', 'EDUCATION', 'INCOME',\n",
    "            'VEHICLE_YEAR','TYPE_OF_VEHICLE']"
   ]
  },
  {
   "cell_type": "code",
   "execution_count": null,
   "id": "1139febe-213b-4a99-94b4-8f8c6a0c77d8",
   "metadata": {},
   "outputs": [],
   "source": []
  },
  {
   "cell_type": "code",
   "execution_count": 6,
   "id": "d9a3520d-6475-4e45-8d71-d221bc17f1cb",
   "metadata": {},
   "outputs": [],
   "source": [
    "def cramers_v(x, y):\n",
    "    \n",
    "    confusion_matrix = pd.crosstab(x,y)\n",
    "    chi2 = ss.chi2_contingency(confusion_matrix)[0]\n",
    "    n = confusion_matrix.sum().sum()\n",
    "    phi2 = chi2/n\n",
    "    r,k = confusion_matrix.shape\n",
    "    phi2corr = max(0, phi2-((k-1)*(r-1))/(n-1))\n",
    "    rcorr = r-((r-1)**2)/(n-1)\n",
    "    kcorr = k-((k-1)**2)/(n-1)\n",
    "    return np.sqrt(phi2corr/min((kcorr-1),(rcorr-1)))"
   ]
  },
  {
   "cell_type": "code",
   "execution_count": 28,
   "id": "29e8ecc2-40e2-431a-a73b-24aa9ac99c09",
   "metadata": {},
   "outputs": [
    {
     "name": "stdout",
     "output_type": "stream",
     "text": [
      "ID correlation 0.0\n",
      "AGE correlation 0.0\n",
      "GENDER correlation 0.011258020957786547\n",
      "DRIVING_EXPERIENCE correlation 0.0137054683829392\n",
      "EDUCATION correlation 0.0\n",
      "INCOME correlation 0.0\n",
      "CREDIT_SCORE correlation 0.0\n",
      "VEHICLE_OWNERSHIP correlation 0.0\n",
      "VEHICLE_YEAR correlation 0.0\n",
      "MARRIED correlation 0.005154960958728126\n",
      "CHILDREN correlation 0.0\n",
      "POSTAL_CODE correlation 0.0\n",
      "ANNUAL_MILEAGE correlation 0.012915204296091592\n",
      "SPEEDING_VIOLATIONS correlation 0.009360608827442572\n",
      "DUIS correlation 0.0\n",
      "PAST_ACCIDENTS correlation 0.0\n",
      "OUTCOME correlation 0.9999804851393885\n",
      "TYPE_OF_VEHICLE correlation 0.009083320850949017\n"
     ]
    }
   ],
   "source": [
    "for i in train.columns:\n",
    "    \n",
    "    print(f'{i} correlation {cramers_v(train[i], train[\"OUTCOME\"])}')"
   ]
  },
  {
   "cell_type": "code",
   "execution_count": 36,
   "id": "3bbd7035-5e9b-406d-80cf-b508d0693962",
   "metadata": {},
   "outputs": [],
   "source": [
    "def feature_engineering(df, df1):\n",
    "    \n",
    "    \n",
    "    for i in cat_cols:\n",
    "        \n",
    "        le = LabelEncoder()\n",
    "        le.fit(df[i])\n",
    "        df[i] = le.transform(df[i])\n",
    "        df1[i] = le.transform(df1[i])\n",
    "        \n",
    "    \n",
    "    AGE_MAP = {'40-64':2, '26-39':1, '16-25':0, '65+':3}\n",
    "    \n",
    "    EXP_MAP = {'20-29y':2, '30y+':3, '0-9y':0, '10-19y':1}\n",
    "    \n",
    "    \n",
    "    df['AGE'] = df['AGE'].map(AGE_MAP)\n",
    "    df1['AGE'] = df1['AGE'].map(AGE_MAP)\n",
    "    \n",
    "    df['DRIVING_EXPERIENCE'] = df['DRIVING_EXPERIENCE'].map(EXP_MAP)\n",
    "    df1['DRIVING_EXPERIENCE'] = df1['DRIVING_EXPERIENCE'].map(EXP_MAP)\n",
    "    \n",
    "    \n",
    "    \n",
    "    \n",
    "    \n",
    "    \n",
    "    return df, df1"
   ]
  },
  {
   "cell_type": "code",
   "execution_count": 8,
   "id": "2cbcaf89-57a1-4960-a375-f831a588af9d",
   "metadata": {},
   "outputs": [],
   "source": [
    "train, test = feature_engineering(train, test)"
   ]
  },
  {
   "cell_type": "code",
   "execution_count": 9,
   "id": "69852258-4b5f-44cd-9778-62207252e8f7",
   "metadata": {},
   "outputs": [
    {
     "data": {
      "text/html": [
       "<div>\n",
       "<style scoped>\n",
       "    .dataframe tbody tr th:only-of-type {\n",
       "        vertical-align: middle;\n",
       "    }\n",
       "\n",
       "    .dataframe tbody tr th {\n",
       "        vertical-align: top;\n",
       "    }\n",
       "\n",
       "    .dataframe thead th {\n",
       "        text-align: right;\n",
       "    }\n",
       "</style>\n",
       "<table border=\"1\" class=\"dataframe\">\n",
       "  <thead>\n",
       "    <tr style=\"text-align: right;\">\n",
       "      <th></th>\n",
       "      <th>ID</th>\n",
       "      <th>AGE</th>\n",
       "      <th>GENDER</th>\n",
       "      <th>DRIVING_EXPERIENCE</th>\n",
       "      <th>EDUCATION</th>\n",
       "      <th>INCOME</th>\n",
       "      <th>CREDIT_SCORE</th>\n",
       "      <th>VEHICLE_OWNERSHIP</th>\n",
       "      <th>VEHICLE_YEAR</th>\n",
       "      <th>MARRIED</th>\n",
       "      <th>CHILDREN</th>\n",
       "      <th>POSTAL_CODE</th>\n",
       "      <th>ANNUAL_MILEAGE</th>\n",
       "      <th>SPEEDING_VIOLATIONS</th>\n",
       "      <th>DUIS</th>\n",
       "      <th>PAST_ACCIDENTS</th>\n",
       "      <th>OUTCOME</th>\n",
       "      <th>TYPE_OF_VEHICLE</th>\n",
       "    </tr>\n",
       "  </thead>\n",
       "  <tbody>\n",
       "    <tr>\n",
       "      <th>0</th>\n",
       "      <td>816393</td>\n",
       "      <td>2</td>\n",
       "      <td>0</td>\n",
       "      <td>2</td>\n",
       "      <td>2</td>\n",
       "      <td>0</td>\n",
       "      <td>0.638050</td>\n",
       "      <td>0.0</td>\n",
       "      <td>0</td>\n",
       "      <td>0.0</td>\n",
       "      <td>0.0</td>\n",
       "      <td>37379</td>\n",
       "      <td>11000.0</td>\n",
       "      <td>0</td>\n",
       "      <td>0</td>\n",
       "      <td>0</td>\n",
       "      <td>0.0</td>\n",
       "      <td>3</td>\n",
       "    </tr>\n",
       "    <tr>\n",
       "      <th>1</th>\n",
       "      <td>251762</td>\n",
       "      <td>1</td>\n",
       "      <td>1</td>\n",
       "      <td>2</td>\n",
       "      <td>0</td>\n",
       "      <td>0</td>\n",
       "      <td>0.475741</td>\n",
       "      <td>1.0</td>\n",
       "      <td>1</td>\n",
       "      <td>1.0</td>\n",
       "      <td>0.0</td>\n",
       "      <td>10238</td>\n",
       "      <td>9000.0</td>\n",
       "      <td>0</td>\n",
       "      <td>0</td>\n",
       "      <td>0</td>\n",
       "      <td>1.0</td>\n",
       "      <td>0</td>\n",
       "    </tr>\n",
       "    <tr>\n",
       "      <th>2</th>\n",
       "      <td>481952</td>\n",
       "      <td>2</td>\n",
       "      <td>1</td>\n",
       "      <td>2</td>\n",
       "      <td>1</td>\n",
       "      <td>0</td>\n",
       "      <td>0.839817</td>\n",
       "      <td>1.0</td>\n",
       "      <td>1</td>\n",
       "      <td>1.0</td>\n",
       "      <td>1.0</td>\n",
       "      <td>10238</td>\n",
       "      <td>12000.0</td>\n",
       "      <td>0</td>\n",
       "      <td>0</td>\n",
       "      <td>0</td>\n",
       "      <td>1.0</td>\n",
       "      <td>2</td>\n",
       "    </tr>\n",
       "    <tr>\n",
       "      <th>3</th>\n",
       "      <td>3506</td>\n",
       "      <td>2</td>\n",
       "      <td>1</td>\n",
       "      <td>2</td>\n",
       "      <td>0</td>\n",
       "      <td>2</td>\n",
       "      <td>0.682527</td>\n",
       "      <td>1.0</td>\n",
       "      <td>1</td>\n",
       "      <td>0.0</td>\n",
       "      <td>1.0</td>\n",
       "      <td>92099</td>\n",
       "      <td>6000.0</td>\n",
       "      <td>1</td>\n",
       "      <td>0</td>\n",
       "      <td>0</td>\n",
       "      <td>1.0</td>\n",
       "      <td>2</td>\n",
       "    </tr>\n",
       "    <tr>\n",
       "      <th>4</th>\n",
       "      <td>498013</td>\n",
       "      <td>2</td>\n",
       "      <td>0</td>\n",
       "      <td>2</td>\n",
       "      <td>1</td>\n",
       "      <td>3</td>\n",
       "      <td>0.572184</td>\n",
       "      <td>1.0</td>\n",
       "      <td>0</td>\n",
       "      <td>1.0</td>\n",
       "      <td>1.0</td>\n",
       "      <td>32122</td>\n",
       "      <td>15000.0</td>\n",
       "      <td>0</td>\n",
       "      <td>0</td>\n",
       "      <td>1</td>\n",
       "      <td>0.0</td>\n",
       "      <td>2</td>\n",
       "    </tr>\n",
       "    <tr>\n",
       "      <th>...</th>\n",
       "      <td>...</td>\n",
       "      <td>...</td>\n",
       "      <td>...</td>\n",
       "      <td>...</td>\n",
       "      <td>...</td>\n",
       "      <td>...</td>\n",
       "      <td>...</td>\n",
       "      <td>...</td>\n",
       "      <td>...</td>\n",
       "      <td>...</td>\n",
       "      <td>...</td>\n",
       "      <td>...</td>\n",
       "      <td>...</td>\n",
       "      <td>...</td>\n",
       "      <td>...</td>\n",
       "      <td>...</td>\n",
       "      <td>...</td>\n",
       "      <td>...</td>\n",
       "    </tr>\n",
       "    <tr>\n",
       "      <th>104995</th>\n",
       "      <td>19557</td>\n",
       "      <td>3</td>\n",
       "      <td>0</td>\n",
       "      <td>0</td>\n",
       "      <td>0</td>\n",
       "      <td>2</td>\n",
       "      <td>0.672255</td>\n",
       "      <td>1.0</td>\n",
       "      <td>1</td>\n",
       "      <td>0.0</td>\n",
       "      <td>0.0</td>\n",
       "      <td>31885</td>\n",
       "      <td>9000.0</td>\n",
       "      <td>2</td>\n",
       "      <td>0</td>\n",
       "      <td>0</td>\n",
       "      <td>0.0</td>\n",
       "      <td>1</td>\n",
       "    </tr>\n",
       "    <tr>\n",
       "      <th>104996</th>\n",
       "      <td>222459</td>\n",
       "      <td>2</td>\n",
       "      <td>0</td>\n",
       "      <td>0</td>\n",
       "      <td>1</td>\n",
       "      <td>3</td>\n",
       "      <td>0.514193</td>\n",
       "      <td>1.0</td>\n",
       "      <td>0</td>\n",
       "      <td>1.0</td>\n",
       "      <td>0.0</td>\n",
       "      <td>32277</td>\n",
       "      <td>10000.0</td>\n",
       "      <td>0</td>\n",
       "      <td>0</td>\n",
       "      <td>0</td>\n",
       "      <td>1.0</td>\n",
       "      <td>2</td>\n",
       "    </tr>\n",
       "    <tr>\n",
       "      <th>104997</th>\n",
       "      <td>83089</td>\n",
       "      <td>0</td>\n",
       "      <td>1</td>\n",
       "      <td>1</td>\n",
       "      <td>1</td>\n",
       "      <td>2</td>\n",
       "      <td>0.461942</td>\n",
       "      <td>1.0</td>\n",
       "      <td>0</td>\n",
       "      <td>1.0</td>\n",
       "      <td>0.0</td>\n",
       "      <td>34800</td>\n",
       "      <td>11000.0</td>\n",
       "      <td>0</td>\n",
       "      <td>0</td>\n",
       "      <td>0</td>\n",
       "      <td>1.0</td>\n",
       "      <td>2</td>\n",
       "    </tr>\n",
       "    <tr>\n",
       "      <th>104998</th>\n",
       "      <td>984879</td>\n",
       "      <td>2</td>\n",
       "      <td>0</td>\n",
       "      <td>2</td>\n",
       "      <td>0</td>\n",
       "      <td>3</td>\n",
       "      <td>0.483571</td>\n",
       "      <td>1.0</td>\n",
       "      <td>1</td>\n",
       "      <td>0.0</td>\n",
       "      <td>0.0</td>\n",
       "      <td>10238</td>\n",
       "      <td>10000.0</td>\n",
       "      <td>0</td>\n",
       "      <td>0</td>\n",
       "      <td>0</td>\n",
       "      <td>0.0</td>\n",
       "      <td>0</td>\n",
       "    </tr>\n",
       "    <tr>\n",
       "      <th>104999</th>\n",
       "      <td>139618</td>\n",
       "      <td>3</td>\n",
       "      <td>0</td>\n",
       "      <td>2</td>\n",
       "      <td>0</td>\n",
       "      <td>2</td>\n",
       "      <td>0.468710</td>\n",
       "      <td>1.0</td>\n",
       "      <td>0</td>\n",
       "      <td>0.0</td>\n",
       "      <td>1.0</td>\n",
       "      <td>10238</td>\n",
       "      <td>14000.0</td>\n",
       "      <td>0</td>\n",
       "      <td>0</td>\n",
       "      <td>0</td>\n",
       "      <td>1.0</td>\n",
       "      <td>0</td>\n",
       "    </tr>\n",
       "  </tbody>\n",
       "</table>\n",
       "<p>105000 rows × 18 columns</p>\n",
       "</div>"
      ],
      "text/plain": [
       "            ID  AGE  GENDER  DRIVING_EXPERIENCE  EDUCATION  INCOME  \\\n",
       "0       816393    2       0                   2          2       0   \n",
       "1       251762    1       1                   2          0       0   \n",
       "2       481952    2       1                   2          1       0   \n",
       "3         3506    2       1                   2          0       2   \n",
       "4       498013    2       0                   2          1       3   \n",
       "...        ...  ...     ...                 ...        ...     ...   \n",
       "104995   19557    3       0                   0          0       2   \n",
       "104996  222459    2       0                   0          1       3   \n",
       "104997   83089    0       1                   1          1       2   \n",
       "104998  984879    2       0                   2          0       3   \n",
       "104999  139618    3       0                   2          0       2   \n",
       "\n",
       "        CREDIT_SCORE  VEHICLE_OWNERSHIP  VEHICLE_YEAR  MARRIED  CHILDREN  \\\n",
       "0           0.638050                0.0             0      0.0       0.0   \n",
       "1           0.475741                1.0             1      1.0       0.0   \n",
       "2           0.839817                1.0             1      1.0       1.0   \n",
       "3           0.682527                1.0             1      0.0       1.0   \n",
       "4           0.572184                1.0             0      1.0       1.0   \n",
       "...              ...                ...           ...      ...       ...   \n",
       "104995      0.672255                1.0             1      0.0       0.0   \n",
       "104996      0.514193                1.0             0      1.0       0.0   \n",
       "104997      0.461942                1.0             0      1.0       0.0   \n",
       "104998      0.483571                1.0             1      0.0       0.0   \n",
       "104999      0.468710                1.0             0      0.0       1.0   \n",
       "\n",
       "        POSTAL_CODE  ANNUAL_MILEAGE  SPEEDING_VIOLATIONS  DUIS  \\\n",
       "0             37379         11000.0                    0     0   \n",
       "1             10238          9000.0                    0     0   \n",
       "2             10238         12000.0                    0     0   \n",
       "3             92099          6000.0                    1     0   \n",
       "4             32122         15000.0                    0     0   \n",
       "...             ...             ...                  ...   ...   \n",
       "104995        31885          9000.0                    2     0   \n",
       "104996        32277         10000.0                    0     0   \n",
       "104997        34800         11000.0                    0     0   \n",
       "104998        10238         10000.0                    0     0   \n",
       "104999        10238         14000.0                    0     0   \n",
       "\n",
       "        PAST_ACCIDENTS  OUTCOME  TYPE_OF_VEHICLE  \n",
       "0                    0      0.0                3  \n",
       "1                    0      1.0                0  \n",
       "2                    0      1.0                2  \n",
       "3                    0      1.0                2  \n",
       "4                    1      0.0                2  \n",
       "...                ...      ...              ...  \n",
       "104995               0      0.0                1  \n",
       "104996               0      1.0                2  \n",
       "104997               0      1.0                2  \n",
       "104998               0      0.0                0  \n",
       "104999               0      1.0                0  \n",
       "\n",
       "[105000 rows x 18 columns]"
      ]
     },
     "execution_count": 9,
     "metadata": {},
     "output_type": "execute_result"
    }
   ],
   "source": [
    "train"
   ]
  },
  {
   "cell_type": "code",
   "execution_count": 10,
   "id": "71cf1eb4-ae73-412c-a925-b5b8d1b90fe5",
   "metadata": {},
   "outputs": [],
   "source": [
    "train['ANNUAL_MILEAGE'] = train['ANNUAL_MILEAGE'].astype('int64')\n",
    "test['ANNUAL_MILEAGE'] = test['ANNUAL_MILEAGE'].astype('int64')\n"
   ]
  },
  {
   "cell_type": "code",
   "execution_count": 22,
   "id": "88217be8-e64f-4b5d-9366-adf03486405c",
   "metadata": {},
   "outputs": [
    {
     "data": {
      "text/plain": [
       "Index(['GENDER', 'DRIVING_EXPERIENCE', 'CREDIT_SCORE', 'VEHICLE_OWNERSHIP',\n",
       "       'MARRIED', 'CHILDREN', 'POSTAL_CODE', 'ANNUAL_MILEAGE',\n",
       "       'SPEEDING_VIOLATIONS', 'DUIS', 'PAST_ACCIDENTS', 'TYPE_OF_VEHICLE'],\n",
       "      dtype='object')"
      ]
     },
     "execution_count": 22,
     "metadata": {},
     "output_type": "execute_result"
    }
   ],
   "source": [
    "train.drop(['ID','OUTCOME','AGE', 'INCOME','EDUCATION','VEHICLE_YEAR'],axis=1).columns"
   ]
  },
  {
   "cell_type": "code",
   "execution_count": 12,
   "id": "96f5fedb-57fd-4e97-8c15-f1e2fe602057",
   "metadata": {},
   "outputs": [],
   "source": [
    "def plot_feature_importance(importance,names,model_type):\n",
    "    \n",
    "    #Create arrays from feature importance and feature names\n",
    "    feature_importance = np.array(importance)\n",
    "    feature_names = np.array(names)\n",
    "    \n",
    "    #Create a DataFrame using a Dictionary\n",
    "    data={'feature_names':feature_names,'feature_importance':feature_importance}\n",
    "    fi_df = pd.DataFrame(data)\n",
    "    \n",
    "    #Sort the DataFrame in order decreasing feature importance\n",
    "    fi_df.sort_values(by=['feature_importance'], ascending=False,inplace=True)\n",
    "    \n",
    "    #Define size of bar plot\n",
    "    plt.figure(figsize=(10,8))\n",
    "    #Plot Searborn bar chart\n",
    "    sns.barplot(x=fi_df['feature_importance'], y=fi_df['feature_names'])\n",
    "    #Add chart labels\n",
    "    plt.title(model_type + 'FEATURE IMPORTANCE')\n",
    "    plt.xlabel('FEATURE IMPORTANCE')\n",
    "    plt.ylabel('FEATURE NAMES')"
   ]
  },
  {
   "cell_type": "code",
   "execution_count": 38,
   "id": "bcfd7a47-59cc-4cb6-83c3-a55687461b3c",
   "metadata": {},
   "outputs": [
    {
     "data": {
      "text/plain": [
       "Index(['GENDER', 'DRIVING_EXPERIENCE', 'CREDIT_SCORE', 'VEHICLE_OWNERSHIP',\n",
       "       'MARRIED', 'CHILDREN', 'POSTAL_CODE', 'ANNUAL_MILEAGE',\n",
       "       'SPEEDING_VIOLATIONS', 'DUIS', 'PAST_ACCIDENTS', 'TYPE_OF_VEHICLE'],\n",
       "      dtype='object')"
      ]
     },
     "execution_count": 38,
     "metadata": {},
     "output_type": "execute_result"
    }
   ],
   "source": [
    "train.drop(['ID','OUTCOME','AGE','EDUCATION','INCOME','VEHICLE_YEAR'],axis=1).columns"
   ]
  },
  {
   "cell_type": "code",
   "execution_count": 39,
   "id": "914d8de0-46db-4665-a27a-347bc494c36e",
   "metadata": {},
   "outputs": [],
   "source": [
    "x_train = train.drop(['ID','OUTCOME','AGE','EDUCATION','INCOME','VEHICLE_YEAR'],axis=1)\n",
    "y_train = train['OUTCOME']"
   ]
  },
  {
   "cell_type": "code",
   "execution_count": 40,
   "id": "d5aedd43-74e6-4b28-8b10-74dce1ca17b0",
   "metadata": {},
   "outputs": [],
   "source": [
    "X_train,X_val,Y_train,Y_val = train_test_split(x_train,y_train,random_state=42)"
   ]
  },
  {
   "cell_type": "code",
   "execution_count": 41,
   "id": "4459bd67-2d07-4a34-81d4-552a85f0648c",
   "metadata": {},
   "outputs": [],
   "source": [
    "X_train, X_eval, Y_train, Y_eval = train_test_split(X_train, Y_train, test_size=0.1, random_state=42)"
   ]
  },
  {
   "cell_type": "code",
   "execution_count": 42,
   "id": "8bdca000-7f9a-47c6-b4c6-41475fc32c1d",
   "metadata": {},
   "outputs": [
    {
     "data": {
      "text/plain": [
       "((70875, 12), (70875,), (26250, 12), (26250,), (7875, 12), (7875,))"
      ]
     },
     "execution_count": 42,
     "metadata": {},
     "output_type": "execute_result"
    }
   ],
   "source": [
    "X_train.shape, Y_train.shape, X_val.shape, Y_val.shape, X_eval.shape, Y_eval.shape"
   ]
  },
  {
   "cell_type": "code",
   "execution_count": 43,
   "id": "8226d081-5428-406e-9043-0f9e5135904a",
   "metadata": {},
   "outputs": [],
   "source": [
    "def check_logloss(model,x_val,y_val):\n",
    "    pred = model.predict_proba(x_val)[:,1]\n",
    "    return log_loss(y_val, pred)"
   ]
  },
  {
   "cell_type": "code",
   "execution_count": 47,
   "id": "db47a9d4-d7f4-4eda-85e7-a486686c0b8c",
   "metadata": {},
   "outputs": [],
   "source": [
    "def objective(trial):\n",
    "    param = {}\n",
    "    param['learning_rate'] = trial.suggest_discrete_uniform(\"learning_rate\", 0.1, 1, 0.1)\n",
    "    param['depth'] = trial.suggest_int('depth', 5, 11)\n",
    "    #param['l2_leaf_reg'] = trial.suggest_discrete_uniform('l2_leaf_reg', 1.0, 5.0, 0.5)\n",
    "    #param['min_child_samples'] = trial.suggest_categorical('min_child_samples', [1, 4, 8, 16, 32])\n",
    "    #param['grow_policy'] = 'Depthwise'\n",
    "    param['iterations'] = 3000\n",
    "    param['use_best_model'] = True\n",
    "    param['eval_metric'] = 'Logloss'\n",
    "    param['od_type'] = 'iter'\n",
    "    param['od_wait'] = 100\n",
    "    param['random_state'] = 42\n",
    "    param['logging_level'] = 'Silent'\n",
    "    \n",
    "    classifier = cat.CatBoostClassifier(**param)\n",
    "    classifier.fit(X_train.copy(), Y_train.copy(),\n",
    "                   cat_features=[0,1,11],\n",
    "                  eval_set=[(X_eval.copy(), Y_eval.copy())],\n",
    "                  early_stopping_rounds=100)\n",
    "    return check_logloss(classifier,X_val,Y_val)"
   ]
  },
  {
   "cell_type": "code",
   "execution_count": 48,
   "id": "c2a2bd4a-59b0-4055-95e0-d69ef8410c58",
   "metadata": {},
   "outputs": [
    {
     "name": "stderr",
     "output_type": "stream",
     "text": [
      "\u001b[32m[I 2022-10-31 15:58:57,057]\u001b[0m A new study created in memory with name: catboost-seed\u001b[0m\n",
      "d:\\python3.9\\lib\\site-packages\\optuna\\study\\study.py:393: FutureWarning: `n_jobs` argument has been deprecated in v2.7.0. This feature will be removed in v4.0.0. See https://github.com/optuna/optuna/releases/tag/v2.7.0.\n",
      "  warnings.warn(\n",
      "Custom logger is already specified. Specify more than one logger at same time is not thread safe.Custom logger is already specified. Specify more than one logger at same time is not thread safe.Custom logger is already specified. Specify more than one logger at same time is not thread safe.Custom logger is already specified. Specify more than one logger at same time is not thread safe.\u001b[32m[I 2022-10-31 15:59:19,791]\u001b[0m Trial 4 finished with value: 0.6821926124632366 and parameters: {'learning_rate': 0.9, 'depth': 6}. Best is trial 4 with value: 0.6821926124632366.\u001b[0m\n",
      "\u001b[32m[I 2022-10-31 15:59:20,674]\u001b[0m Trial 2 finished with value: 0.6818822057795126 and parameters: {'learning_rate': 0.4, 'depth': 6}. Best is trial 2 with value: 0.6818822057795126.\u001b[0m\n",
      "\u001b[32m[I 2022-10-31 15:59:25,060]\u001b[0m Trial 3 finished with value: 0.6822550168810834 and parameters: {'learning_rate': 0.9, 'depth': 8}. Best is trial 2 with value: 0.6818822057795126.\u001b[0m\n",
      "\u001b[32m[I 2022-10-31 15:59:27,246]\u001b[0m Trial 1 finished with value: 0.6826451976410788 and parameters: {'learning_rate': 0.4, 'depth': 9}. Best is trial 2 with value: 0.6818822057795126.\u001b[0m\n",
      "\u001b[32m[I 2022-10-31 15:59:38,728]\u001b[0m Trial 0 finished with value: 0.6824331722891801 and parameters: {'learning_rate': 0.7000000000000001, 'depth': 11}. Best is trial 2 with value: 0.6818822057795126.\u001b[0m\n"
     ]
    },
    {
     "name": "stdout",
     "output_type": "stream",
     "text": [
      "Wall time: 41.7 s\n"
     ]
    }
   ],
   "source": [
    "%%time\n",
    "study = optuna.create_study(study_name='catboost-seed')\n",
    "study.optimize(objective, n_trials=5, n_jobs=-1, timeout=24000)"
   ]
  },
  {
   "cell_type": "code",
   "execution_count": 46,
   "id": "4343e08d-434d-4ac5-b81d-9d4ec6f89ffe",
   "metadata": {},
   "outputs": [
    {
     "data": {
      "text/plain": [
       "0.6816457904494729"
      ]
     },
     "execution_count": 46,
     "metadata": {},
     "output_type": "execute_result"
    }
   ],
   "source": [
    "study.best_value"
   ]
  },
  {
   "cell_type": "code",
   "execution_count": 83,
   "id": "5c9a64f3-db7a-4f18-a433-33283b3cce22",
   "metadata": {},
   "outputs": [
    {
     "data": {
      "text/plain": [
       "{'learning_rate': 0.013000000000000001,\n",
       " 'depth': 2,\n",
       " 'l2_leaf_reg': 1.0,\n",
       " 'min_child_samples': 8}"
      ]
     },
     "execution_count": 83,
     "metadata": {},
     "output_type": "execute_result"
    }
   ],
   "source": [
    "study.best_params"
   ]
  },
  {
   "cell_type": "code",
   "execution_count": 35,
   "id": "449a0daf-f34e-4817-8cb3-2186a60a5c40",
   "metadata": {},
   "outputs": [],
   "source": [
    "def train_with_cat(train, test=None,  _eval=True):\n",
    "    \n",
    "    \n",
    "    \n",
    "    params_cat = {'learning_rate': 0.1, 'depth': 7, \n",
    "                  #'l2_leaf_reg': 2.5, 'min_child_samples': 4,\n",
    "                  'iterations':3000,\n",
    "                  'random_state':42}\n",
    "    \n",
    "    \n",
    "    \n",
    "    # Split features and target\n",
    "    x = train.drop(['ID','OUTCOME','AGE','EDUCATION','INCOME','VEHICLE_YEAR'],axis=1)\n",
    "    y = train['OUTCOME']\n",
    "    x_test = test.drop(['ID','AGE','EDUCATION','INCOME','VEHICLE_YEAR'], axis=1)\n",
    "    \n",
    "    \n",
    "    \n",
    "    \n",
    "    #print(x.shape[0])\n",
    "    # Create out of folds array\n",
    "    oof_predictions = np.zeros(x.shape[0])\n",
    "    \n",
    "    # Create test array to store predictions\n",
    "    test_predictions = np.zeros(x_test.shape[0])\n",
    "    \n",
    "    # Create a KFold object\n",
    "    kfold = StratifiedKFold(n_splits = 5, random_state=42, shuffle=True)\n",
    "    \n",
    "    \n",
    "    # Iterate through each fold\n",
    "    for fold , (trn_ind, val_ind) in enumerate(kfold.split(x,y)):\n",
    "        #print(\"TRAIN:\", trn_ind, \"TEST:\", val_ind)\n",
    "        print(f'Training fold {fold + 1}')\n",
    "        x_train, x_val = x.iloc[trn_ind], x.iloc[val_ind]\n",
    "        y_train, y_val = y.iloc[trn_ind], y.iloc[val_ind]\n",
    "        \n",
    "        \n",
    "        \n",
    "        \n",
    "       \n",
    "        #train_dataset = lgb.Dataset(x_train, y_train,  categorical_feature = [ 'GENDER', 'DRIVING_EXPERIENCE', 'TYPE_OF_VEHICLE','POSTAL_CODE'])\n",
    "        #val_dataset = lgb.Dataset(x_val, y_val,  categorical_feature = [ 'GENDER', 'DRIVING_EXPERIENCE', 'TYPE_OF_VEHICLE','POSTAL_CODE'])\n",
    "       \n",
    "        \n",
    "        \n",
    "        \n",
    "        \n",
    "        \n",
    "        \n",
    "        model = cat.CatBoostClassifier(**params_cat)\n",
    "        \n",
    "        \n",
    "        \n",
    "        model.fit(x_train, y_train, cat_features=[0,1,11],early_stopping_rounds=100, verbose=500, plot=True,eval_set=(x_val, y_val),use_best_model=True)\n",
    "        \n",
    "        \n",
    "        \n",
    "        val = model.predict_proba(x_val)[:,1]\n",
    "        \n",
    "        \n",
    "        print(f' current fold log loss is {log_loss(y_val,val)}')\n",
    "        \n",
    "        \n",
    "        \n",
    "        \n",
    "        oof_predictions[val_ind] =  val\n",
    "        \n",
    "        \n",
    "        \n",
    "        # Predict the test set\n",
    "        \n",
    "        \n",
    "        pred = model.predict_proba(x_test)[:,1]\n",
    "        \n",
    "        \n",
    "        \n",
    "        \n",
    "        plot_feature_importance(model.get_feature_importance(), x.columns, 'CATBOOST')\n",
    "        \n",
    "        test_predictions += pred\n",
    "        \n",
    "        \n",
    "        \n",
    "        \n",
    "        \n",
    "    \n",
    "    mean_score = log_loss(y, oof_predictions)\n",
    "    #mean_score1 = log_loss(y, oof_predictions1)\n",
    "    \n",
    "    \n",
    "    print(f'Our out of folds log loss for catboost is {mean_score}')\n",
    "    \n",
    "    \n",
    "    \n",
    "    \n",
    "    \n",
    "    if _eval:\n",
    "        return mean_score, oof_predictions\n",
    "    else:\n",
    "        return oof_predictions, [x/5 for x in test_predictions]"
   ]
  },
  {
   "cell_type": "code",
   "execution_count": 32,
   "id": "7e4d80d3-b230-468b-8836-e461d7715710",
   "metadata": {},
   "outputs": [
    {
     "name": "stdout",
     "output_type": "stream",
     "text": [
      "Training fold 1\n"
     ]
    },
    {
     "data": {
      "application/vnd.jupyter.widget-view+json": {
       "model_id": "7488804674ba47df975b82d8cd41e053",
       "version_major": 2,
       "version_minor": 0
      },
      "text/plain": [
       "MetricVisualizer(layout=Layout(align_self='stretch', height='500px'))"
      ]
     },
     "metadata": {},
     "output_type": "display_data"
    },
    {
     "name": "stdout",
     "output_type": "stream",
     "text": [
      "0:\tlearn: 0.6908281\ttest: 0.6908289\tbest: 0.6908289 (0)\ttotal: 80.3ms\tremaining: 4m\n",
      "Stopped by overfitting detector  (100 iterations wait)\n",
      "\n",
      "bestTest = 0.6812053077\n",
      "bestIteration = 29\n",
      "\n",
      "Shrink model to first 30 iterations.\n",
      " current fold log loss is 0.6812053076591281\n",
      "Training fold 2\n"
     ]
    },
    {
     "data": {
      "application/vnd.jupyter.widget-view+json": {
       "model_id": "b9c093563ded47949627cd9c8c5daa31",
       "version_major": 2,
       "version_minor": 0
      },
      "text/plain": [
       "MetricVisualizer(layout=Layout(align_self='stretch', height='500px'))"
      ]
     },
     "metadata": {},
     "output_type": "display_data"
    },
    {
     "name": "stdout",
     "output_type": "stream",
     "text": [
      "0:\tlearn: 0.6908248\ttest: 0.6908390\tbest: 0.6908390 (0)\ttotal: 66.3ms\tremaining: 3m 18s\n",
      "Stopped by overfitting detector  (100 iterations wait)\n",
      "\n",
      "bestTest = 0.6811439026\n",
      "bestIteration = 40\n",
      "\n",
      "Shrink model to first 41 iterations.\n",
      " current fold log loss is 0.6811439026404258\n",
      "Training fold 3\n"
     ]
    },
    {
     "data": {
      "application/vnd.jupyter.widget-view+json": {
       "model_id": "f7fc3b0718db472eb6ad29715f65d848",
       "version_major": 2,
       "version_minor": 0
      },
      "text/plain": [
       "MetricVisualizer(layout=Layout(align_self='stretch', height='500px'))"
      ]
     },
     "metadata": {},
     "output_type": "display_data"
    },
    {
     "name": "stdout",
     "output_type": "stream",
     "text": [
      "0:\tlearn: 0.6908095\ttest: 0.6908650\tbest: 0.6908650 (0)\ttotal: 87.7ms\tremaining: 4m 22s\n",
      "Stopped by overfitting detector  (100 iterations wait)\n",
      "\n",
      "bestTest = 0.6809162198\n",
      "bestIteration = 43\n",
      "\n",
      "Shrink model to first 44 iterations.\n",
      " current fold log loss is 0.6809162197718786\n",
      "Training fold 4\n"
     ]
    },
    {
     "data": {
      "application/vnd.jupyter.widget-view+json": {
       "model_id": "281ef102b4a6407da729646b476d47c3",
       "version_major": 2,
       "version_minor": 0
      },
      "text/plain": [
       "MetricVisualizer(layout=Layout(align_self='stretch', height='500px'))"
      ]
     },
     "metadata": {},
     "output_type": "display_data"
    },
    {
     "name": "stdout",
     "output_type": "stream",
     "text": [
      "0:\tlearn: 0.6908147\ttest: 0.6908574\tbest: 0.6908574 (0)\ttotal: 83ms\tremaining: 4m 8s\n",
      "Stopped by overfitting detector  (100 iterations wait)\n",
      "\n",
      "bestTest = 0.6809985431\n",
      "bestIteration = 40\n",
      "\n",
      "Shrink model to first 41 iterations.\n",
      " current fold log loss is 0.6809985430537726\n",
      "Training fold 5\n"
     ]
    },
    {
     "data": {
      "application/vnd.jupyter.widget-view+json": {
       "model_id": "6d3e329fa24e45f2a176e0109a27d786",
       "version_major": 2,
       "version_minor": 0
      },
      "text/plain": [
       "MetricVisualizer(layout=Layout(align_self='stretch', height='500px'))"
      ]
     },
     "metadata": {},
     "output_type": "display_data"
    },
    {
     "name": "stdout",
     "output_type": "stream",
     "text": [
      "0:\tlearn: 0.6908149\ttest: 0.6908544\tbest: 0.6908544 (0)\ttotal: 77.6ms\tremaining: 3m 52s\n",
      "Stopped by overfitting detector  (100 iterations wait)\n",
      "\n",
      "bestTest = 0.680935123\n",
      "bestIteration = 40\n",
      "\n",
      "Shrink model to first 41 iterations.\n",
      " current fold log loss is 0.6809351229716818\n",
      "Our out of folds log loss for catboost is 0.6810398192193774\n"
     ]
    },
    {
     "data": {
      "image/png": "[encoded data removed]",
      "text/plain": [
       "<Figure size 720x576 with 1 Axes>"
      ]
     },
     "metadata": {
      "needs_background": "light"
     },
     "output_type": "display_data"
    },
    {
     "data": {
      "image/png": "[encoded data removed]",
      "text/plain": [
       "<Figure size 720x576 with 1 Axes>"
      ]
     },
     "metadata": {
      "needs_background": "light"
     },
     "output_type": "display_data"
    },
    {
     "data": {
      "image/png": "[encoded data removed]",
      "text/plain": [
       "<Figure size 720x576 with 1 Axes>"
      ]
     },
     "metadata": {
      "needs_background": "light"
     },
     "output_type": "display_data"
    },
    {
     "data": {
      "image/png": "[encoded data removed]",
      "text/plain": [
       "<Figure size 720x576 with 1 Axes>"
      ]
     },
     "metadata": {
      "needs_background": "light"
     },
     "output_type": "display_data"
    },
    {
     "data": {
      "image/png": "[encoded data removed]",
      "text/plain": [
       "<Figure size 720x576 with 1 Axes>"
      ]
     },
     "metadata": {
      "needs_background": "light"
     },
     "output_type": "display_data"
    }
   ],
   "source": [
    "oof, test_pred = train_with_cat(train, test, _eval=False)"
   ]
  },
  {
   "cell_type": "code",
   "execution_count": 33,
   "id": "0f34ae5a-7cfe-4df9-a4de-e9f788e36c28",
   "metadata": {},
   "outputs": [],
   "source": [
    "submission =  pd.DataFrame({'OUTCOME': test_pred})"
   ]
  },
  {
   "cell_type": "code",
   "execution_count": 34,
   "id": "282858b4-357e-4bd3-981b-e822527ffd04",
   "metadata": {},
   "outputs": [],
   "source": [
    "submission['OUTCOME'].to_csv('submission_v20.csv', index=False)"
   ]
  },
  {
   "cell_type": "code",
   "execution_count": 19,
   "id": "2fb129e2-0bb9-4aa3-a115-b85f2db953e4",
   "metadata": {},
   "outputs": [
    {
     "data": {
      "text/plain": [
       "<AxesSubplot:xlabel='OUTCOME', ylabel='Count'>"
      ]
     },
     "execution_count": 19,
     "metadata": {},
     "output_type": "execute_result"
    },
    {
     "data": {
      "image/png": "[encoded data removed]",
      "text/plain": [
       "<Figure size 432x288 with 1 Axes>"
      ]
     },
     "metadata": {
      "needs_background": "light"
     },
     "output_type": "display_data"
    }
   ],
   "source": [
    "sns.histplot(submission['OUTCOME'])"
   ]
  },
  {
   "cell_type": "code",
   "execution_count": null,
   "id": "121fb6ec-c2e6-421d-ab7e-5f6614eee813",
   "metadata": {},
   "outputs": [],
   "source": []
  }
 ],
 "metadata": {
  "kernelspec": {
   "display_name": "Python 3 (ipykernel)",
   "language": "python",
   "name": "python3"
  },
  "language_info": {
   "codemirror_mode": {
    "name": "ipython",
    "version": 3
   },
   "file_extension": ".py",
   "mimetype": "text/x-python",
   "name": "python",
   "nbconvert_exporter": "python",
   "pygments_lexer": "ipython3",
   "version": "3.9.6"
  }
 },
 "nbformat": 4,
 "nbformat_minor": 5
}
