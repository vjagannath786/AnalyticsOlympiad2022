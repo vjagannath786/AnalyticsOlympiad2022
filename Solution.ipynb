{
 "cells": [
  {
   "cell_type": "code",
   "execution_count": 129,
   "id": "7779643e-e5a6-4e85-93be-e9ddbe274275",
   "metadata": {},
   "outputs": [],
   "source": [
    "import pandas as pd\n",
    "import numpy as np\n",
    "import seaborn as sns\n",
    "from scipy.stats import stats\n",
    "import scipy.stats as ss\n",
    "\n",
    "from sklearn.preprocessing import LabelEncoder\n",
    "import lightgbm as lgb\n",
    "from sklearn.metrics import log_loss\n",
    "import matplotlib.pyplot as plt\n",
    "from sklearn.model_selection import KFold, StratifiedKFold\n",
    "import catboost as cat\n",
    "from sklearn.linear_model import LogisticRegression\n",
    "import category_encoders as ce\n",
    "from category_encoders import MEstimateEncoder\n",
    "from sklearn.model_selection import train_test_split\n",
    "import optuna\n",
    "from itertools import combinations"
   ]
  },
  {
   "cell_type": "code",
   "execution_count": 138,
   "id": "5a11b5b3-9f81-4f12-881f-b5a72bc33b95",
   "metadata": {},
   "outputs": [],
   "source": [
    "train = pd.read_csv('train.csv')\n",
    "test = pd.read_csv('test.csv')"
   ]
  },
  {
   "cell_type": "code",
   "execution_count": 54,
   "id": "9c25a40f-6d66-4c56-b877-a7ae1aacedde",
   "metadata": {},
   "outputs": [
    {
     "data": {
      "text/plain": [
       "0         37379\n",
       "1         10238\n",
       "2         10238\n",
       "3         92099\n",
       "4         32122\n",
       "          ...  \n",
       "104995    31885\n",
       "104996    32277\n",
       "104997    34800\n",
       "104998    10238\n",
       "104999    10238\n",
       "Name: POSTAL_CODE, Length: 105000, dtype: int64"
      ]
     },
     "execution_count": 54,
     "metadata": {},
     "output_type": "execute_result"
    }
   ],
   "source": [
    "train['POSTAL_CODE']"
   ]
  },
  {
   "cell_type": "code",
   "execution_count": 112,
   "id": "a8b52835-dc71-453d-babf-aab45e524c50",
   "metadata": {},
   "outputs": [
    {
     "data": {
      "text/html": [
       "<div>\n",
       "<style scoped>\n",
       "    .dataframe tbody tr th:only-of-type {\n",
       "        vertical-align: middle;\n",
       "    }\n",
       "\n",
       "    .dataframe tbody tr th {\n",
       "        vertical-align: top;\n",
       "    }\n",
       "\n",
       "    .dataframe thead th {\n",
       "        text-align: right;\n",
       "    }\n",
       "</style>\n",
       "<table border=\"1\" class=\"dataframe\">\n",
       "  <thead>\n",
       "    <tr style=\"text-align: right;\">\n",
       "      <th></th>\n",
       "      <th>ID</th>\n",
       "      <th>AGE</th>\n",
       "      <th>GENDER</th>\n",
       "      <th>DRIVING_EXPERIENCE</th>\n",
       "      <th>EDUCATION</th>\n",
       "      <th>INCOME</th>\n",
       "      <th>CREDIT_SCORE</th>\n",
       "      <th>VEHICLE_OWNERSHIP</th>\n",
       "      <th>VEHICLE_YEAR</th>\n",
       "      <th>MARRIED</th>\n",
       "      <th>CHILDREN</th>\n",
       "      <th>POSTAL_CODE</th>\n",
       "      <th>ANNUAL_MILEAGE</th>\n",
       "      <th>SPEEDING_VIOLATIONS</th>\n",
       "      <th>DUIS</th>\n",
       "      <th>PAST_ACCIDENTS</th>\n",
       "      <th>TYPE_OF_VEHICLE</th>\n",
       "    </tr>\n",
       "  </thead>\n",
       "  <tbody>\n",
       "    <tr>\n",
       "      <th>0</th>\n",
       "      <td>352928</td>\n",
       "      <td>40-64</td>\n",
       "      <td>male</td>\n",
       "      <td>10-19y</td>\n",
       "      <td>none</td>\n",
       "      <td>working class</td>\n",
       "      <td>0.814707</td>\n",
       "      <td>1.0</td>\n",
       "      <td>after 2015</td>\n",
       "      <td>0.0</td>\n",
       "      <td>1.0</td>\n",
       "      <td>10238</td>\n",
       "      <td>10000.0</td>\n",
       "      <td>0</td>\n",
       "      <td>0</td>\n",
       "      <td>0</td>\n",
       "      <td>HatchBack</td>\n",
       "    </tr>\n",
       "    <tr>\n",
       "      <th>1</th>\n",
       "      <td>38579</td>\n",
       "      <td>26-39</td>\n",
       "      <td>female</td>\n",
       "      <td>20-29y</td>\n",
       "      <td>high school</td>\n",
       "      <td>upper class</td>\n",
       "      <td>0.344051</td>\n",
       "      <td>1.0</td>\n",
       "      <td>before 2015</td>\n",
       "      <td>0.0</td>\n",
       "      <td>0.0</td>\n",
       "      <td>34073</td>\n",
       "      <td>13000.0</td>\n",
       "      <td>0</td>\n",
       "      <td>0</td>\n",
       "      <td>0</td>\n",
       "      <td>Sedan</td>\n",
       "    </tr>\n",
       "    <tr>\n",
       "      <th>2</th>\n",
       "      <td>504022</td>\n",
       "      <td>40-64</td>\n",
       "      <td>male</td>\n",
       "      <td>10-19y</td>\n",
       "      <td>none</td>\n",
       "      <td>upper class</td>\n",
       "      <td>0.620691</td>\n",
       "      <td>0.0</td>\n",
       "      <td>after 2015</td>\n",
       "      <td>1.0</td>\n",
       "      <td>0.0</td>\n",
       "      <td>10238</td>\n",
       "      <td>12000.0</td>\n",
       "      <td>0</td>\n",
       "      <td>0</td>\n",
       "      <td>0</td>\n",
       "      <td>SUV</td>\n",
       "    </tr>\n",
       "    <tr>\n",
       "      <th>3</th>\n",
       "      <td>202404</td>\n",
       "      <td>26-39</td>\n",
       "      <td>male</td>\n",
       "      <td>20-29y</td>\n",
       "      <td>high school</td>\n",
       "      <td>upper class</td>\n",
       "      <td>0.689658</td>\n",
       "      <td>1.0</td>\n",
       "      <td>after 2015</td>\n",
       "      <td>1.0</td>\n",
       "      <td>1.0</td>\n",
       "      <td>10238</td>\n",
       "      <td>16000.0</td>\n",
       "      <td>1</td>\n",
       "      <td>0</td>\n",
       "      <td>0</td>\n",
       "      <td>SUV</td>\n",
       "    </tr>\n",
       "    <tr>\n",
       "      <th>4</th>\n",
       "      <td>527913</td>\n",
       "      <td>65+</td>\n",
       "      <td>male</td>\n",
       "      <td>10-19y</td>\n",
       "      <td>none</td>\n",
       "      <td>middle class</td>\n",
       "      <td>0.755666</td>\n",
       "      <td>0.0</td>\n",
       "      <td>after 2015</td>\n",
       "      <td>0.0</td>\n",
       "      <td>1.0</td>\n",
       "      <td>92101</td>\n",
       "      <td>14000.0</td>\n",
       "      <td>2</td>\n",
       "      <td>0</td>\n",
       "      <td>0</td>\n",
       "      <td>HatchBack</td>\n",
       "    </tr>\n",
       "  </tbody>\n",
       "</table>\n",
       "</div>"
      ],
      "text/plain": [
       "       ID    AGE  GENDER DRIVING_EXPERIENCE    EDUCATION         INCOME  \\\n",
       "0  352928  40-64    male             10-19y         none  working class   \n",
       "1   38579  26-39  female             20-29y  high school    upper class   \n",
       "2  504022  40-64    male             10-19y         none    upper class   \n",
       "3  202404  26-39    male             20-29y  high school    upper class   \n",
       "4  527913    65+    male             10-19y         none   middle class   \n",
       "\n",
       "   CREDIT_SCORE  VEHICLE_OWNERSHIP VEHICLE_YEAR  MARRIED  CHILDREN  \\\n",
       "0      0.814707                1.0   after 2015      0.0       1.0   \n",
       "1      0.344051                1.0  before 2015      0.0       0.0   \n",
       "2      0.620691                0.0   after 2015      1.0       0.0   \n",
       "3      0.689658                1.0   after 2015      1.0       1.0   \n",
       "4      0.755666                0.0   after 2015      0.0       1.0   \n",
       "\n",
       "   POSTAL_CODE  ANNUAL_MILEAGE  SPEEDING_VIOLATIONS  DUIS  PAST_ACCIDENTS  \\\n",
       "0        10238         10000.0                    0     0               0   \n",
       "1        34073         13000.0                    0     0               0   \n",
       "2        10238         12000.0                    0     0               0   \n",
       "3        10238         16000.0                    1     0               0   \n",
       "4        92101         14000.0                    2     0               0   \n",
       "\n",
       "  TYPE_OF_VEHICLE  \n",
       "0       HatchBack  \n",
       "1           Sedan  \n",
       "2             SUV  \n",
       "3             SUV  \n",
       "4       HatchBack  "
      ]
     },
     "execution_count": 112,
     "metadata": {},
     "output_type": "execute_result"
    }
   ],
   "source": [
    "test.head()"
   ]
  },
  {
   "cell_type": "code",
   "execution_count": 5,
   "id": "cfbed653-0427-4d53-ab9e-12cf5f7d1a6f",
   "metadata": {},
   "outputs": [
    {
     "name": "stderr",
     "output_type": "stream",
     "text": [
      "d:\\python3.9\\lib\\site-packages\\seaborn\\_decorators.py:36: FutureWarning: Pass the following variable as a keyword arg: x. From version 0.12, the only valid positional argument will be `data`, and passing other arguments without an explicit keyword will result in an error or misinterpretation.\n",
      "  warnings.warn(\n"
     ]
    },
    {
     "data": {
      "text/plain": [
       "<AxesSubplot:xlabel='OUTCOME', ylabel='count'>"
      ]
     },
     "execution_count": 5,
     "metadata": {},
     "output_type": "execute_result"
    },
    {
     "data": {
      "image/png": "[encoded data removed]",
      "text/plain": [
       "<Figure size 432x288 with 1 Axes>"
      ]
     },
     "metadata": {
      "needs_background": "light"
     },
     "output_type": "display_data"
    }
   ],
   "source": [
    "sns.countplot(train['OUTCOME'])"
   ]
  },
  {
   "cell_type": "code",
   "execution_count": 108,
   "id": "19f21cfc-7ecb-4d46-a57c-80f6a22fc74a",
   "metadata": {},
   "outputs": [
    {
     "data": {
      "text/plain": [
       "<AxesSubplot:xlabel='DRIVING_EXPERIENCE', ylabel='count'>"
      ]
     },
     "execution_count": 108,
     "metadata": {},
     "output_type": "execute_result"
    },
    {
     "data": {
      "image/png": "[encoded data removed]",
      "text/plain": [
       "<Figure size 432x288 with 1 Axes>"
      ]
     },
     "metadata": {
      "needs_background": "light"
     },
     "output_type": "display_data"
    }
   ],
   "source": [
    "sns.countplot(x=\"DRIVING_EXPERIENCE\", hue=\"OUTCOME\", data=train)"
   ]
  },
  {
   "cell_type": "code",
   "execution_count": 166,
   "id": "981bfb7d-6e9f-4e2e-a317-7babb08df4d7",
   "metadata": {},
   "outputs": [
    {
     "data": {
      "text/plain": [
       "<AxesSubplot:xlabel='ANNUAL_MILEAGE', ylabel='count'>"
      ]
     },
     "execution_count": 166,
     "metadata": {},
     "output_type": "execute_result"
    },
    {
     "data": {
      "image/png": "[encoded data removed]",
      "text/plain": [
       "<Figure size 432x288 with 1 Axes>"
      ]
     },
     "metadata": {
      "needs_background": "light"
     },
     "output_type": "display_data"
    }
   ],
   "source": [
    "sns.countplot(x=\"ANNUAL_MILEAGE\", hue=\"OUTCOME\", data=train)"
   ]
  },
  {
   "cell_type": "code",
   "execution_count": 113,
   "id": "086014c0-b641-4a84-b01d-ef5bcc73bd04",
   "metadata": {},
   "outputs": [
    {
     "data": {
      "text/plain": [
       "array(['20-29y', '30y+', '0-9y', '10-19y'], dtype=object)"
      ]
     },
     "execution_count": 113,
     "metadata": {},
     "output_type": "execute_result"
    }
   ],
   "source": [
    "train['DRIVING_EXPERIENCE'].unique()"
   ]
  },
  {
   "cell_type": "code",
   "execution_count": 24,
   "id": "a080cd31-afc1-4063-8aa9-d6d8edfd9f62",
   "metadata": {},
   "outputs": [
    {
     "data": {
      "text/plain": [
       "33"
      ]
     },
     "execution_count": 24,
     "metadata": {},
     "output_type": "execute_result"
    }
   ],
   "source": [
    "len(test.columns)"
   ]
  },
  {
   "cell_type": "code",
   "execution_count": 14,
   "id": "5879c12d-be34-41c5-9d7a-96464671c4d7",
   "metadata": {},
   "outputs": [
    {
     "data": {
      "text/plain": [
       "Index(['ID', 'AGE', 'GENDER', 'DRIVING_EXPERIENCE', 'EDUCATION', 'INCOME',\n",
       "       'CREDIT_SCORE', 'VEHICLE_OWNERSHIP', 'VEHICLE_YEAR', 'MARRIED',\n",
       "       'CHILDREN', 'POSTAL_CODE', 'ANNUAL_MILEAGE', 'SPEEDING_VIOLATIONS',\n",
       "       'DUIS', 'PAST_ACCIDENTS', 'OUTCOME', 'TYPE_OF_VEHICLE'],\n",
       "      dtype='object')"
      ]
     },
     "execution_count": 14,
     "metadata": {},
     "output_type": "execute_result"
    }
   ],
   "source": [
    "train.columns"
   ]
  },
  {
   "cell_type": "code",
   "execution_count": 139,
   "id": "f16dc87b-7fc5-4541-a4cb-407f1d05c421",
   "metadata": {},
   "outputs": [],
   "source": [
    "cat_cols = [ 'GENDER', 'EDUCATION', 'INCOME',\n",
    "            'VEHICLE_YEAR','TYPE_OF_VEHICLE']"
   ]
  },
  {
   "cell_type": "code",
   "execution_count": null,
   "id": "1139febe-213b-4a99-94b4-8f8c6a0c77d8",
   "metadata": {},
   "outputs": [],
   "source": []
  },
  {
   "cell_type": "code",
   "execution_count": 93,
   "id": "d9a3520d-6475-4e45-8d71-d221bc17f1cb",
   "metadata": {},
   "outputs": [],
   "source": [
    "def cramers_v(x, y):\n",
    "    \n",
    "    confusion_matrix = pd.crosstab(x,y)\n",
    "    chi2 = ss.chi2_contingency(confusion_matrix)[0]\n",
    "    n = confusion_matrix.sum().sum()\n",
    "    phi2 = chi2/n\n",
    "    r,k = confusion_matrix.shape\n",
    "    phi2corr = max(0, phi2-((k-1)*(r-1))/(n-1))\n",
    "    rcorr = r-((r-1)**2)/(n-1)\n",
    "    kcorr = k-((k-1)**2)/(n-1)\n",
    "    return np.sqrt(phi2corr/min((kcorr-1),(rcorr-1)))"
   ]
  },
  {
   "cell_type": "code",
   "execution_count": 176,
   "id": "29e8ecc2-40e2-431a-a73b-24aa9ac99c09",
   "metadata": {},
   "outputs": [
    {
     "name": "stdout",
     "output_type": "stream",
     "text": [
      "ID correlation 0.0\n",
      "AGE correlation 0.0\n",
      "GENDER correlation 0.011258020957786547\n",
      "DRIVING_EXPERIENCE correlation 0.0137054683829392\n",
      "EDUCATION correlation 0.0\n",
      "INCOME correlation 0.0\n",
      "CREDIT_SCORE correlation 0.0\n",
      "VEHICLE_OWNERSHIP correlation 0.0\n",
      "VEHICLE_YEAR correlation 0.0\n",
      "MARRIED correlation 0.005154960958728126\n",
      "CHILDREN correlation 0.0\n",
      "POSTAL_CODE correlation 0.0\n",
      "ANNUAL_MILEAGE correlation 0.012915204296091592\n",
      "SPEEDING_VIOLATIONS correlation 0.009360608827442572\n",
      "DUIS correlation 0.0\n",
      "PAST_ACCIDENTS correlation 0.0\n",
      "OUTCOME correlation 0.9999804851393885\n",
      "TYPE_OF_VEHICLE correlation 0.009083320850949017\n",
      "POSTAL_CODE_ANNUAL_MILEAGE_le correlation 0.012769372336969311\n",
      "POSTAL_CODE_DRIVING_EXPERIENCE_le correlation 0.017818591171944807\n",
      "POSTAL_CODE_PAST_ACCIDENTS_le correlation 0.006880013457381608\n",
      "ANNUAL_MILEAGE_DRIVING_EXPERIENCE_le correlation 0.021432285873999035\n",
      "ANNUAL_MILEAGE_PAST_ACCIDENTS_le correlation 0.01038771484412547\n",
      "DRIVING_EXPERIENCE_PAST_ACCIDENTS_le correlation 0.01747016794013767\n",
      "pred correlation 0.0\n"
     ]
    }
   ],
   "source": [
    "for i in train.columns:\n",
    "    \n",
    "    print(f'{i} correlation {cramers_v(train[i], train[\"OUTCOME\"])}')"
   ]
  },
  {
   "cell_type": "code",
   "execution_count": 52,
   "id": "ef6a0e42-8080-4ddf-b549-02938c727fbe",
   "metadata": {},
   "outputs": [
    {
     "name": "stdout",
     "output_type": "stream",
     "text": [
      "        POSTAL_CODE\n",
      "0          0.000010\n",
      "1          0.739124\n",
      "2          0.739124\n",
      "3          0.001476\n",
      "4          0.000038\n",
      "...             ...\n",
      "104995     0.000029\n",
      "104996     0.000019\n",
      "104997     0.000048\n",
      "104998     0.739124\n",
      "104999     0.739124\n",
      "\n",
      "[105000 rows x 1 columns]\n"
     ]
    }
   ],
   "source": [
    "['AGE','EDUCATION','INCOME']"
   ]
  },
  {
   "cell_type": "code",
   "execution_count": 95,
   "id": "4262224e-b269-4022-8489-1274e3d6d12d",
   "metadata": {},
   "outputs": [],
   "source": [
    "def frequency_encoding(column_name,output_column_name,df):\n",
    "    fe_pol = (df.groupby(column_name).size()) / len(df)\n",
    "    df[output_column_name] = df[column_name].apply(lambda x : fe_pol[x])"
   ]
  },
  {
   "cell_type": "code",
   "execution_count": 96,
   "id": "7522e50d-b759-4d89-bc9a-e7bc5232f6da",
   "metadata": {},
   "outputs": [],
   "source": [
    "def encoder(columnname, df):\n",
    "    _count = ce.CountEncoder(cols=columnname)\n",
    "    _count.fit(df[columnname])\n",
    "    df[columnname] = _count.transform(df[columnname]) / df.shape[0]    "
   ]
  },
  {
   "cell_type": "code",
   "execution_count": 140,
   "id": "3bbd7035-5e9b-406d-80cf-b508d0693962",
   "metadata": {},
   "outputs": [],
   "source": [
    "def feature_engineering(df, df1):\n",
    "    \n",
    "    \n",
    "    for i in cat_cols:\n",
    "        \n",
    "        le = LabelEncoder()\n",
    "        le.fit(df[i])\n",
    "        df[i] = le.transform(df[i])\n",
    "        df1[i] = le.transform(df1[i])\n",
    "        \n",
    "    \n",
    "    #AGE_MAP = {'40-64':2, '26-39':1, '16-25':0, '65+':3}\n",
    "    \n",
    "    EXP_MAP = {'20-29y':2, '30y+':3, '0-9y':0, '10-19y':1}\n",
    "    \n",
    "    \n",
    "    #df['AGE'] = df['AGE'].map(AGE_MAP)\n",
    "    #df1['AGE'] = df1['AGE'].map(AGE_MAP)\n",
    "    \n",
    "    df['DRIVING_EXPERIENCE'] = df['DRIVING_EXPERIENCE'].map(EXP_MAP)\n",
    "    df1['DRIVING_EXPERIENCE'] = df1['DRIVING_EXPERIENCE'].map(EXP_MAP)\n",
    "    \n",
    "    \n",
    "    #df = pd.get_dummies(df, columns=cat_cols)\n",
    "    \n",
    "    #df1 = pd.get_dummies(df1, columns=cat_cols)\n",
    "    \n",
    "    \n",
    "    #_count = ce.CountEncoder(cols='POSTAL_CODE')\n",
    "    \n",
    "    #_count.fit(df['POSTAL_CODE'])\n",
    "    \n",
    "    \n",
    "    #df['POSTAL_CODE'] = _count.transform(df['POSTAL_CODE']) / df.shape[0]\n",
    "    \n",
    "    #df1['POSTAL_CODE'] = _count.transform(df1['POSTAL_CODE']) / df1.shape[0]\n",
    "    \n",
    "    #df['POSTAL_AGE'] = df['POSTAL_CODE'].astype(str) + '_' +df['DRIVING_EXPERIENCE'].astype(str)\n",
    "    #df1['POSTAL_AGE'] = df1['POSTAL_CODE'].astype(str) + '_' +df1['DRIVING_EXPERIENCE'].astype(str)\n",
    "    \n",
    "    #print(df['POSTAL_AGE'])\n",
    "    \n",
    "    high_cardinal = ['POSTAL_CODE','ANNUAL_MILEAGE','DRIVING_EXPERIENCE','PAST_ACCIDENTS']\n",
    "    \n",
    "    \n",
    "    comb = combinations(high_cardinal, 2) \n",
    "\n",
    "    for i in list(comb):\n",
    "        df[f'{i[0]}_{i[1]}_le']=df[i[0]].astype(str)+'_'+df[i[1]].astype(str)\n",
    "        df1[f'{i[0]}_{i[1]}_le']=df1[i[0]].astype(str)+'_'+df1[i[1]].astype(str)\n",
    "        #df[f'{i[0]}_{i[1]}_le']=le.fit_transform(df[i[0]].astype(str)+'_'+df[i[1]].astype(str))\n",
    "        frequency_encoding(f'{i[0]}_{i[1]}_le',f'{i[0]}_{i[1]}_le',df)\n",
    "        frequency_encoding(f'{i[0]}_{i[1]}_le',f'{i[0]}_{i[1]}_le',df1)\n",
    "    \n",
    "    '''\n",
    "    \n",
    "    for i in high_cardinal:\n",
    "        frequency_encoding(i, i,df)\n",
    "        frequency_encoding(i, i,df1)\n",
    "    '''\n",
    "    \n",
    "    \n",
    "    \n",
    "    return df, df1"
   ]
  },
  {
   "cell_type": "code",
   "execution_count": 141,
   "id": "2cbcaf89-57a1-4960-a375-f831a588af9d",
   "metadata": {},
   "outputs": [],
   "source": [
    "train, test = feature_engineering(train, test)"
   ]
  },
  {
   "cell_type": "code",
   "execution_count": 142,
   "id": "69852258-4b5f-44cd-9778-62207252e8f7",
   "metadata": {},
   "outputs": [
    {
     "data": {
      "text/html": [
       "<div>\n",
       "<style scoped>\n",
       "    .dataframe tbody tr th:only-of-type {\n",
       "        vertical-align: middle;\n",
       "    }\n",
       "\n",
       "    .dataframe tbody tr th {\n",
       "        vertical-align: top;\n",
       "    }\n",
       "\n",
       "    .dataframe thead th {\n",
       "        text-align: right;\n",
       "    }\n",
       "</style>\n",
       "<table border=\"1\" class=\"dataframe\">\n",
       "  <thead>\n",
       "    <tr style=\"text-align: right;\">\n",
       "      <th></th>\n",
       "      <th>ID</th>\n",
       "      <th>AGE</th>\n",
       "      <th>GENDER</th>\n",
       "      <th>DRIVING_EXPERIENCE</th>\n",
       "      <th>EDUCATION</th>\n",
       "      <th>INCOME</th>\n",
       "      <th>CREDIT_SCORE</th>\n",
       "      <th>VEHICLE_OWNERSHIP</th>\n",
       "      <th>VEHICLE_YEAR</th>\n",
       "      <th>MARRIED</th>\n",
       "      <th>...</th>\n",
       "      <th>DUIS</th>\n",
       "      <th>PAST_ACCIDENTS</th>\n",
       "      <th>OUTCOME</th>\n",
       "      <th>TYPE_OF_VEHICLE</th>\n",
       "      <th>POSTAL_CODE_ANNUAL_MILEAGE_le</th>\n",
       "      <th>POSTAL_CODE_DRIVING_EXPERIENCE_le</th>\n",
       "      <th>POSTAL_CODE_PAST_ACCIDENTS_le</th>\n",
       "      <th>ANNUAL_MILEAGE_DRIVING_EXPERIENCE_le</th>\n",
       "      <th>ANNUAL_MILEAGE_PAST_ACCIDENTS_le</th>\n",
       "      <th>DRIVING_EXPERIENCE_PAST_ACCIDENTS_le</th>\n",
       "    </tr>\n",
       "  </thead>\n",
       "  <tbody>\n",
       "    <tr>\n",
       "      <th>0</th>\n",
       "      <td>816393</td>\n",
       "      <td>40-64</td>\n",
       "      <td>0</td>\n",
       "      <td>2</td>\n",
       "      <td>2</td>\n",
       "      <td>0</td>\n",
       "      <td>0.638050</td>\n",
       "      <td>0.0</td>\n",
       "      <td>0</td>\n",
       "      <td>0.0</td>\n",
       "      <td>...</td>\n",
       "      <td>0</td>\n",
       "      <td>0</td>\n",
       "      <td>0.0</td>\n",
       "      <td>3</td>\n",
       "      <td>0.000010</td>\n",
       "      <td>0.000010</td>\n",
       "      <td>0.000010</td>\n",
       "      <td>0.035648</td>\n",
       "      <td>0.074210</td>\n",
       "      <td>0.267352</td>\n",
       "    </tr>\n",
       "    <tr>\n",
       "      <th>1</th>\n",
       "      <td>251762</td>\n",
       "      <td>26-39</td>\n",
       "      <td>1</td>\n",
       "      <td>2</td>\n",
       "      <td>0</td>\n",
       "      <td>0</td>\n",
       "      <td>0.475741</td>\n",
       "      <td>1.0</td>\n",
       "      <td>1</td>\n",
       "      <td>1.0</td>\n",
       "      <td>...</td>\n",
       "      <td>0</td>\n",
       "      <td>0</td>\n",
       "      <td>1.0</td>\n",
       "      <td>0</td>\n",
       "      <td>0.085381</td>\n",
       "      <td>0.263648</td>\n",
       "      <td>0.558629</td>\n",
       "      <td>0.040638</td>\n",
       "      <td>0.086095</td>\n",
       "      <td>0.267352</td>\n",
       "    </tr>\n",
       "    <tr>\n",
       "      <th>2</th>\n",
       "      <td>481952</td>\n",
       "      <td>40-64</td>\n",
       "      <td>1</td>\n",
       "      <td>2</td>\n",
       "      <td>1</td>\n",
       "      <td>0</td>\n",
       "      <td>0.839817</td>\n",
       "      <td>1.0</td>\n",
       "      <td>1</td>\n",
       "      <td>1.0</td>\n",
       "      <td>...</td>\n",
       "      <td>0</td>\n",
       "      <td>0</td>\n",
       "      <td>1.0</td>\n",
       "      <td>2</td>\n",
       "      <td>0.060000</td>\n",
       "      <td>0.263648</td>\n",
       "      <td>0.558629</td>\n",
       "      <td>0.029200</td>\n",
       "      <td>0.061267</td>\n",
       "      <td>0.267352</td>\n",
       "    </tr>\n",
       "    <tr>\n",
       "      <th>3</th>\n",
       "      <td>3506</td>\n",
       "      <td>40-64</td>\n",
       "      <td>1</td>\n",
       "      <td>2</td>\n",
       "      <td>0</td>\n",
       "      <td>2</td>\n",
       "      <td>0.682527</td>\n",
       "      <td>1.0</td>\n",
       "      <td>1</td>\n",
       "      <td>0.0</td>\n",
       "      <td>...</td>\n",
       "      <td>0</td>\n",
       "      <td>0</td>\n",
       "      <td>1.0</td>\n",
       "      <td>2</td>\n",
       "      <td>0.000057</td>\n",
       "      <td>0.000457</td>\n",
       "      <td>0.001076</td>\n",
       "      <td>0.012200</td>\n",
       "      <td>0.026171</td>\n",
       "      <td>0.267352</td>\n",
       "    </tr>\n",
       "    <tr>\n",
       "      <th>4</th>\n",
       "      <td>498013</td>\n",
       "      <td>40-64</td>\n",
       "      <td>0</td>\n",
       "      <td>2</td>\n",
       "      <td>1</td>\n",
       "      <td>3</td>\n",
       "      <td>0.572184</td>\n",
       "      <td>1.0</td>\n",
       "      <td>0</td>\n",
       "      <td>1.0</td>\n",
       "      <td>...</td>\n",
       "      <td>0</td>\n",
       "      <td>1</td>\n",
       "      <td>0.0</td>\n",
       "      <td>2</td>\n",
       "      <td>0.000010</td>\n",
       "      <td>0.000010</td>\n",
       "      <td>0.000019</td>\n",
       "      <td>0.017448</td>\n",
       "      <td>0.006276</td>\n",
       "      <td>0.048095</td>\n",
       "    </tr>\n",
       "    <tr>\n",
       "      <th>...</th>\n",
       "      <td>...</td>\n",
       "      <td>...</td>\n",
       "      <td>...</td>\n",
       "      <td>...</td>\n",
       "      <td>...</td>\n",
       "      <td>...</td>\n",
       "      <td>...</td>\n",
       "      <td>...</td>\n",
       "      <td>...</td>\n",
       "      <td>...</td>\n",
       "      <td>...</td>\n",
       "      <td>...</td>\n",
       "      <td>...</td>\n",
       "      <td>...</td>\n",
       "      <td>...</td>\n",
       "      <td>...</td>\n",
       "      <td>...</td>\n",
       "      <td>...</td>\n",
       "      <td>...</td>\n",
       "      <td>...</td>\n",
       "      <td>...</td>\n",
       "    </tr>\n",
       "    <tr>\n",
       "      <th>104995</th>\n",
       "      <td>19557</td>\n",
       "      <td>65+</td>\n",
       "      <td>0</td>\n",
       "      <td>0</td>\n",
       "      <td>0</td>\n",
       "      <td>2</td>\n",
       "      <td>0.672255</td>\n",
       "      <td>1.0</td>\n",
       "      <td>1</td>\n",
       "      <td>0.0</td>\n",
       "      <td>...</td>\n",
       "      <td>0</td>\n",
       "      <td>0</td>\n",
       "      <td>0.0</td>\n",
       "      <td>1</td>\n",
       "      <td>0.000010</td>\n",
       "      <td>0.000019</td>\n",
       "      <td>0.000029</td>\n",
       "      <td>0.035238</td>\n",
       "      <td>0.086095</td>\n",
       "      <td>0.237086</td>\n",
       "    </tr>\n",
       "    <tr>\n",
       "      <th>104996</th>\n",
       "      <td>222459</td>\n",
       "      <td>40-64</td>\n",
       "      <td>0</td>\n",
       "      <td>0</td>\n",
       "      <td>1</td>\n",
       "      <td>3</td>\n",
       "      <td>0.514193</td>\n",
       "      <td>1.0</td>\n",
       "      <td>0</td>\n",
       "      <td>1.0</td>\n",
       "      <td>...</td>\n",
       "      <td>0</td>\n",
       "      <td>0</td>\n",
       "      <td>1.0</td>\n",
       "      <td>2</td>\n",
       "      <td>0.000019</td>\n",
       "      <td>0.000019</td>\n",
       "      <td>0.000019</td>\n",
       "      <td>0.048638</td>\n",
       "      <td>0.115829</td>\n",
       "      <td>0.237086</td>\n",
       "    </tr>\n",
       "    <tr>\n",
       "      <th>104997</th>\n",
       "      <td>83089</td>\n",
       "      <td>16-25</td>\n",
       "      <td>1</td>\n",
       "      <td>1</td>\n",
       "      <td>1</td>\n",
       "      <td>2</td>\n",
       "      <td>0.461942</td>\n",
       "      <td>1.0</td>\n",
       "      <td>0</td>\n",
       "      <td>1.0</td>\n",
       "      <td>...</td>\n",
       "      <td>0</td>\n",
       "      <td>0</td>\n",
       "      <td>1.0</td>\n",
       "      <td>2</td>\n",
       "      <td>0.000019</td>\n",
       "      <td>0.000038</td>\n",
       "      <td>0.000048</td>\n",
       "      <td>0.023714</td>\n",
       "      <td>0.074210</td>\n",
       "      <td>0.179448</td>\n",
       "    </tr>\n",
       "    <tr>\n",
       "      <th>104998</th>\n",
       "      <td>984879</td>\n",
       "      <td>40-64</td>\n",
       "      <td>0</td>\n",
       "      <td>2</td>\n",
       "      <td>0</td>\n",
       "      <td>3</td>\n",
       "      <td>0.483571</td>\n",
       "      <td>1.0</td>\n",
       "      <td>1</td>\n",
       "      <td>0.0</td>\n",
       "      <td>...</td>\n",
       "      <td>0</td>\n",
       "      <td>0</td>\n",
       "      <td>0.0</td>\n",
       "      <td>0</td>\n",
       "      <td>0.113533</td>\n",
       "      <td>0.263648</td>\n",
       "      <td>0.558629</td>\n",
       "      <td>0.054895</td>\n",
       "      <td>0.115829</td>\n",
       "      <td>0.267352</td>\n",
       "    </tr>\n",
       "    <tr>\n",
       "      <th>104999</th>\n",
       "      <td>139618</td>\n",
       "      <td>65+</td>\n",
       "      <td>0</td>\n",
       "      <td>2</td>\n",
       "      <td>0</td>\n",
       "      <td>2</td>\n",
       "      <td>0.468710</td>\n",
       "      <td>1.0</td>\n",
       "      <td>0</td>\n",
       "      <td>0.0</td>\n",
       "      <td>...</td>\n",
       "      <td>0</td>\n",
       "      <td>0</td>\n",
       "      <td>1.0</td>\n",
       "      <td>0</td>\n",
       "      <td>0.114610</td>\n",
       "      <td>0.263648</td>\n",
       "      <td>0.558629</td>\n",
       "      <td>0.054400</td>\n",
       "      <td>0.116657</td>\n",
       "      <td>0.267352</td>\n",
       "    </tr>\n",
       "  </tbody>\n",
       "</table>\n",
       "<p>105000 rows × 24 columns</p>\n",
       "</div>"
      ],
      "text/plain": [
       "            ID    AGE  GENDER  DRIVING_EXPERIENCE  EDUCATION  INCOME  \\\n",
       "0       816393  40-64       0                   2          2       0   \n",
       "1       251762  26-39       1                   2          0       0   \n",
       "2       481952  40-64       1                   2          1       0   \n",
       "3         3506  40-64       1                   2          0       2   \n",
       "4       498013  40-64       0                   2          1       3   \n",
       "...        ...    ...     ...                 ...        ...     ...   \n",
       "104995   19557    65+       0                   0          0       2   \n",
       "104996  222459  40-64       0                   0          1       3   \n",
       "104997   83089  16-25       1                   1          1       2   \n",
       "104998  984879  40-64       0                   2          0       3   \n",
       "104999  139618    65+       0                   2          0       2   \n",
       "\n",
       "        CREDIT_SCORE  VEHICLE_OWNERSHIP  VEHICLE_YEAR  MARRIED  ...  DUIS  \\\n",
       "0           0.638050                0.0             0      0.0  ...     0   \n",
       "1           0.475741                1.0             1      1.0  ...     0   \n",
       "2           0.839817                1.0             1      1.0  ...     0   \n",
       "3           0.682527                1.0             1      0.0  ...     0   \n",
       "4           0.572184                1.0             0      1.0  ...     0   \n",
       "...              ...                ...           ...      ...  ...   ...   \n",
       "104995      0.672255                1.0             1      0.0  ...     0   \n",
       "104996      0.514193                1.0             0      1.0  ...     0   \n",
       "104997      0.461942                1.0             0      1.0  ...     0   \n",
       "104998      0.483571                1.0             1      0.0  ...     0   \n",
       "104999      0.468710                1.0             0      0.0  ...     0   \n",
       "\n",
       "        PAST_ACCIDENTS  OUTCOME  TYPE_OF_VEHICLE  \\\n",
       "0                    0      0.0                3   \n",
       "1                    0      1.0                0   \n",
       "2                    0      1.0                2   \n",
       "3                    0      1.0                2   \n",
       "4                    1      0.0                2   \n",
       "...                ...      ...              ...   \n",
       "104995               0      0.0                1   \n",
       "104996               0      1.0                2   \n",
       "104997               0      1.0                2   \n",
       "104998               0      0.0                0   \n",
       "104999               0      1.0                0   \n",
       "\n",
       "        POSTAL_CODE_ANNUAL_MILEAGE_le  POSTAL_CODE_DRIVING_EXPERIENCE_le  \\\n",
       "0                            0.000010                           0.000010   \n",
       "1                            0.085381                           0.263648   \n",
       "2                            0.060000                           0.263648   \n",
       "3                            0.000057                           0.000457   \n",
       "4                            0.000010                           0.000010   \n",
       "...                               ...                                ...   \n",
       "104995                       0.000010                           0.000019   \n",
       "104996                       0.000019                           0.000019   \n",
       "104997                       0.000019                           0.000038   \n",
       "104998                       0.113533                           0.263648   \n",
       "104999                       0.114610                           0.263648   \n",
       "\n",
       "        POSTAL_CODE_PAST_ACCIDENTS_le  ANNUAL_MILEAGE_DRIVING_EXPERIENCE_le  \\\n",
       "0                            0.000010                              0.035648   \n",
       "1                            0.558629                              0.040638   \n",
       "2                            0.558629                              0.029200   \n",
       "3                            0.001076                              0.012200   \n",
       "4                            0.000019                              0.017448   \n",
       "...                               ...                                   ...   \n",
       "104995                       0.000029                              0.035238   \n",
       "104996                       0.000019                              0.048638   \n",
       "104997                       0.000048                              0.023714   \n",
       "104998                       0.558629                              0.054895   \n",
       "104999                       0.558629                              0.054400   \n",
       "\n",
       "        ANNUAL_MILEAGE_PAST_ACCIDENTS_le  DRIVING_EXPERIENCE_PAST_ACCIDENTS_le  \n",
       "0                               0.074210                              0.267352  \n",
       "1                               0.086095                              0.267352  \n",
       "2                               0.061267                              0.267352  \n",
       "3                               0.026171                              0.267352  \n",
       "4                               0.006276                              0.048095  \n",
       "...                                  ...                                   ...  \n",
       "104995                          0.086095                              0.237086  \n",
       "104996                          0.115829                              0.237086  \n",
       "104997                          0.074210                              0.179448  \n",
       "104998                          0.115829                              0.267352  \n",
       "104999                          0.116657                              0.267352  \n",
       "\n",
       "[105000 rows x 24 columns]"
      ]
     },
     "execution_count": 142,
     "metadata": {},
     "output_type": "execute_result"
    }
   ],
   "source": [
    "train"
   ]
  },
  {
   "cell_type": "code",
   "execution_count": 13,
   "id": "71cf1eb4-ae73-412c-a925-b5b8d1b90fe5",
   "metadata": {},
   "outputs": [],
   "source": [
    "train['ANNUAL_MILEAGE'] = train['ANNUAL_MILEAGE'].astype('int64')\n",
    "test['ANNUAL_MILEAGE'] = test['ANNUAL_MILEAGE'].astype('int64')\n"
   ]
  },
  {
   "cell_type": "code",
   "execution_count": 7,
   "id": "7dbcd767-7e26-4060-81cd-3904e59c3f4e",
   "metadata": {},
   "outputs": [],
   "source": [
    "#del test['OUTCOME']"
   ]
  },
  {
   "cell_type": "code",
   "execution_count": 84,
   "id": "88217be8-e64f-4b5d-9366-adf03486405c",
   "metadata": {},
   "outputs": [
    {
     "data": {
      "text/plain": [
       "Index(['GENDER', 'DRIVING_EXPERIENCE', 'CREDIT_SCORE', 'VEHICLE_OWNERSHIP',\n",
       "       'MARRIED', 'CHILDREN', 'POSTAL_CODE', 'ANNUAL_MILEAGE',\n",
       "       'SPEEDING_VIOLATIONS', 'DUIS', 'PAST_ACCIDENTS', 'TYPE_OF_VEHICLE'],\n",
       "      dtype='object')"
      ]
     },
     "execution_count": 84,
     "metadata": {},
     "output_type": "execute_result"
    }
   ],
   "source": [
    "train.drop(['ID','OUTCOME','AGE', 'INCOME','EDUCATION','VEHICLE_YEAR'],axis=1).columns"
   ]
  },
  {
   "cell_type": "code",
   "execution_count": 122,
   "id": "96f5fedb-57fd-4e97-8c15-f1e2fe602057",
   "metadata": {},
   "outputs": [],
   "source": [
    "def plot_feature_importance(importance,names,model_type):\n",
    "    \n",
    "    #Create arrays from feature importance and feature names\n",
    "    feature_importance = np.array(importance)\n",
    "    feature_names = np.array(names)\n",
    "    \n",
    "    #Create a DataFrame using a Dictionary\n",
    "    data={'feature_names':feature_names,'feature_importance':feature_importance}\n",
    "    fi_df = pd.DataFrame(data)\n",
    "    \n",
    "    #Sort the DataFrame in order decreasing feature importance\n",
    "    fi_df.sort_values(by=['feature_importance'], ascending=False,inplace=True)\n",
    "    \n",
    "    #Define size of bar plot\n",
    "    plt.figure(figsize=(10,8))\n",
    "    #Plot Searborn bar chart\n",
    "    sns.barplot(x=fi_df['feature_importance'], y=fi_df['feature_names'])\n",
    "    #Add chart labels\n",
    "    plt.title(model_type + 'FEATURE IMPORTANCE')\n",
    "    plt.xlabel('FEATURE IMPORTANCE')\n",
    "    plt.ylabel('FEATURE NAMES')"
   ]
  },
  {
   "cell_type": "code",
   "execution_count": 30,
   "id": "bcfd7a47-59cc-4cb6-83c3-a55687461b3c",
   "metadata": {},
   "outputs": [
    {
     "data": {
      "text/plain": [
       "Index(['GENDER', 'DRIVING_EXPERIENCE', 'CREDIT_SCORE', 'VEHICLE_OWNERSHIP',\n",
       "       'VEHICLE_YEAR', 'MARRIED', 'CHILDREN', 'POSTAL_CODE', 'ANNUAL_MILEAGE',\n",
       "       'SPEEDING_VIOLATIONS', 'DUIS', 'PAST_ACCIDENTS', 'TYPE_OF_VEHICLE'],\n",
       "      dtype='object')"
      ]
     },
     "execution_count": 30,
     "metadata": {},
     "output_type": "execute_result"
    }
   ],
   "source": [
    "train.drop(['ID','OUTCOME','AGE','EDUCATION','INCOME'],axis=1).columns"
   ]
  },
  {
   "cell_type": "code",
   "execution_count": 156,
   "id": "914d8de0-46db-4665-a27a-347bc494c36e",
   "metadata": {},
   "outputs": [],
   "source": [
    "x_train = train.drop(['ID','OUTCOME','AGE','EDUCATION','INCOME'],axis=1)\n",
    "y_train = train['OUTCOME']"
   ]
  },
  {
   "cell_type": "code",
   "execution_count": 157,
   "id": "d5aedd43-74e6-4b28-8b10-74dce1ca17b0",
   "metadata": {},
   "outputs": [],
   "source": [
    "X_train,X_val,Y_train,Y_val = train_test_split(x_train,y_train,random_state=42)"
   ]
  },
  {
   "cell_type": "code",
   "execution_count": 158,
   "id": "4459bd67-2d07-4a34-81d4-552a85f0648c",
   "metadata": {},
   "outputs": [],
   "source": [
    "X_train, X_eval, Y_train, Y_eval = train_test_split(X_train, Y_train, test_size=0.1, random_state=42)"
   ]
  },
  {
   "cell_type": "code",
   "execution_count": 159,
   "id": "8bdca000-7f9a-47c6-b4c6-41475fc32c1d",
   "metadata": {},
   "outputs": [
    {
     "data": {
      "text/plain": [
       "((70875, 19), (70875,), (26250, 19), (26250,), (7875, 19), (7875,))"
      ]
     },
     "execution_count": 159,
     "metadata": {},
     "output_type": "execute_result"
    }
   ],
   "source": [
    "X_train.shape, Y_train.shape, X_val.shape, Y_val.shape, X_eval.shape, Y_eval.shape"
   ]
  },
  {
   "cell_type": "code",
   "execution_count": 160,
   "id": "8226d081-5428-406e-9043-0f9e5135904a",
   "metadata": {},
   "outputs": [],
   "source": [
    "def check_logloss(model,x_val,y_val):\n",
    "    pred = model.predict_proba(x_val)[:,1]\n",
    "    return log_loss(y_val, pred)"
   ]
  },
  {
   "cell_type": "code",
   "execution_count": 162,
   "id": "db47a9d4-d7f4-4eda-85e7-a486686c0b8c",
   "metadata": {},
   "outputs": [],
   "source": [
    "def objective(trial):\n",
    "    param = {}\n",
    "    param['learning_rate'] = trial.suggest_discrete_uniform(\"learning_rate\", 0.001, 0.1, 0.001)\n",
    "    param['depth'] = trial.suggest_int('depth', 5, 11)\n",
    "    param['l2_leaf_reg'] = trial.suggest_discrete_uniform('l2_leaf_reg', 1.0, 5.0, 0.5)\n",
    "    param['min_child_samples'] = trial.suggest_categorical('min_child_samples', [1, 4, 8, 16, 32])\n",
    "    param['grow_policy'] = 'Depthwise'\n",
    "    param['iterations'] = 3000\n",
    "    param['use_best_model'] = True\n",
    "    param['eval_metric'] = 'Logloss'\n",
    "    param['od_type'] = 'iter'\n",
    "    param['od_wait'] = 100\n",
    "    param['random_state'] = 42\n",
    "    param['logging_level'] = 'Silent'\n",
    "    \n",
    "    classifier = cat.CatBoostClassifier(**param)\n",
    "    classifier.fit(X_train.copy(), Y_train.copy(),\n",
    "                  eval_set=[(X_eval.copy(), Y_eval.copy())],\n",
    "                  early_stopping_rounds=100)\n",
    "    return check_logloss(classifier,X_val,Y_val)"
   ]
  },
  {
   "cell_type": "code",
   "execution_count": 163,
   "id": "c2a2bd4a-59b0-4055-95e0-d69ef8410c58",
   "metadata": {},
   "outputs": [
    {
     "name": "stderr",
     "output_type": "stream",
     "text": [
      "\u001b[32m[I 2022-10-29 12:17:21,134]\u001b[0m A new study created in memory with name: catboost-seed\u001b[0m\n",
      "d:\\python3.9\\lib\\site-packages\\optuna\\study\\study.py:393: FutureWarning: `n_jobs` argument has been deprecated in v2.7.0. This feature will be removed in v4.0.0. See https://github.com/optuna/optuna/releases/tag/v2.7.0.\n",
      "  warnings.warn(\n",
      "Custom logger is already specified. Specify more than one logger at same time is not thread safe.Custom logger is already specified. Specify more than one logger at same time is not thread safe.Custom logger is already specified. Specify more than one logger at same time is not thread safe.Custom logger is already specified. Specify more than one logger at same time is not thread safe.\u001b[32m[I 2022-10-29 12:17:37,564]\u001b[0m Trial 2 finished with value: 0.6816509872422851 and parameters: {'learning_rate': 0.07200000000000001, 'depth': 5, 'l2_leaf_reg': 3.5, 'min_child_samples': 8}. Best is trial 2 with value: 0.6816509872422851.\u001b[0m\n",
      "\u001b[32m[I 2022-10-29 12:17:41,958]\u001b[0m Trial 3 finished with value: 0.6820380480868822 and parameters: {'learning_rate': 0.074, 'depth': 7, 'l2_leaf_reg': 3.0, 'min_child_samples': 1}. Best is trial 2 with value: 0.6816509872422851.\u001b[0m\n",
      "\u001b[32m[I 2022-10-29 12:17:42,556]\u001b[0m Trial 0 finished with value: 0.6816299462993831 and parameters: {'learning_rate': 0.022000000000000002, 'depth': 5, 'l2_leaf_reg': 3.0, 'min_child_samples': 8}. Best is trial 0 with value: 0.6816299462993831.\u001b[0m\n",
      "\u001b[32m[I 2022-10-29 12:17:45,524]\u001b[0m Trial 1 finished with value: 0.6824160265036364 and parameters: {'learning_rate': 0.085, 'depth': 9, 'l2_leaf_reg': 2.0, 'min_child_samples': 8}. Best is trial 0 with value: 0.6816299462993831.\u001b[0m\n",
      "\u001b[32m[I 2022-10-29 12:17:46,649]\u001b[0m Trial 4 finished with value: 0.6822013141172762 and parameters: {'learning_rate': 0.093, 'depth': 9, 'l2_leaf_reg': 5.0, 'min_child_samples': 4}. Best is trial 0 with value: 0.6816299462993831.\u001b[0m\n"
     ]
    },
    {
     "name": "stdout",
     "output_type": "stream",
     "text": [
      "Wall time: 25.5 s\n"
     ]
    }
   ],
   "source": [
    "%%time\n",
    "study = optuna.create_study(study_name='catboost-seed')\n",
    "study.optimize(objective, n_trials=5, n_jobs=-1, timeout=24000)"
   ]
  },
  {
   "cell_type": "code",
   "execution_count": 82,
   "id": "4343e08d-434d-4ac5-b81d-9d4ec6f89ffe",
   "metadata": {},
   "outputs": [
    {
     "data": {
      "text/plain": [
       "0.6815455985505945"
      ]
     },
     "execution_count": 82,
     "metadata": {},
     "output_type": "execute_result"
    }
   ],
   "source": [
    "study.best_value"
   ]
  },
  {
   "cell_type": "code",
   "execution_count": 83,
   "id": "5c9a64f3-db7a-4f18-a433-33283b3cce22",
   "metadata": {},
   "outputs": [
    {
     "data": {
      "text/plain": [
       "{'learning_rate': 0.013000000000000001,\n",
       " 'depth': 2,\n",
       " 'l2_leaf_reg': 1.0,\n",
       " 'min_child_samples': 8}"
      ]
     },
     "execution_count": 83,
     "metadata": {},
     "output_type": "execute_result"
    }
   ],
   "source": [
    "study.best_params"
   ]
  },
  {
   "cell_type": "code",
   "execution_count": 150,
   "id": "449a0daf-f34e-4817-8cb3-2186a60a5c40",
   "metadata": {},
   "outputs": [],
   "source": [
    "def train_with_cat(train, test=None,  _eval=True):\n",
    "    \n",
    "    '''\n",
    "    params_lgb = {\n",
    "        #num_iterations': 1000,\n",
    "        'n_estimators': 3000,\n",
    "        'learning_rate': 0.1,\n",
    "        'objective':'binary',\n",
    "        'metric':'binary_logloss',\n",
    "        'num_leaves':500,\n",
    "        \n",
    "        'lambda_l2':2,\n",
    "        'lambda_l1':3,\n",
    "        #'min_gain_to_split': 5,\n",
    "        #'min_data_in_leaf': 100,\n",
    "        \n",
    "        #'bagging_fraction': 0.7,\n",
    "        #'feature_fraction': 0.9,\n",
    "        #'min_gain_to_split': 40,\n",
    "        \n",
    "        'seed':42,\n",
    "        #'device':'gpu'\n",
    "        \n",
    "    }\n",
    "    '''\n",
    "    \n",
    "    params_cat = {'learning_rate': 0.05, 'depth': 7, \n",
    "                  #'l2_leaf_reg': 2.5, 'min_child_samples': 4,\n",
    "                  'iterations':3000,\n",
    "                  'random_state':42}\n",
    "    #params_cat = study.best_params\n",
    "    \n",
    "    \n",
    "    # Split features and target\n",
    "    x = train.drop(['ID','OUTCOME','AGE','EDUCATION','INCOME'],axis=1)\n",
    "    y = train['OUTCOME']\n",
    "    x_test = test.drop(['ID','AGE','EDUCATION','INCOME'], axis=1)\n",
    "    \n",
    "    \n",
    "    \n",
    "    \n",
    "    #print(x.shape[0])\n",
    "    # Create out of folds array\n",
    "    oof_predictions = np.zeros(x.shape[0])\n",
    "    #oof_predictions1 = np.zeros(x.shape[0])\n",
    "    # Create test array to store predictions\n",
    "    test_predictions = np.zeros(x_test.shape[0])\n",
    "    #test_predictions1 = np.zeros(x_test.shape[0])\n",
    "    # Create a KFold object\n",
    "    \n",
    "    kfold = StratifiedKFold(n_splits = 5, random_state=42, shuffle=True)\n",
    "    \n",
    "    \n",
    "    # Iterate through each fold\n",
    "    for fold , (trn_ind, val_ind) in enumerate(kfold.split(x,y)):\n",
    "        #print(\"TRAIN:\", trn_ind, \"TEST:\", val_ind)\n",
    "        print(f'Training fold {fold + 1}')\n",
    "        x_train, x_val = x.iloc[trn_ind], x.iloc[val_ind]\n",
    "        y_train, y_val = y.iloc[trn_ind], y.iloc[val_ind]\n",
    "        \n",
    "        \n",
    "        \n",
    "        \n",
    "       \n",
    "        #train_dataset = lgb.Dataset(x_train, y_train,  categorical_feature = [ 'GENDER', 'DRIVING_EXPERIENCE', 'TYPE_OF_VEHICLE','POSTAL_CODE'])\n",
    "        #val_dataset = lgb.Dataset(x_val, y_val,  categorical_feature = [ 'GENDER', 'DRIVING_EXPERIENCE', 'TYPE_OF_VEHICLE','POSTAL_CODE'])\n",
    "       \n",
    "        \n",
    "        \n",
    "        '''\n",
    "        \n",
    "        model = lgb.train(params = params_lgb, \n",
    "                    train_set = train_dataset, \n",
    "                    valid_sets =  [train_dataset,val_dataset], \n",
    "                    num_boost_round = 1000,\n",
    "                    early_stopping_rounds = 100,\n",
    "                    verbose_eval = 500\n",
    "                    )\n",
    "       '''\n",
    "        \n",
    "        '''\n",
    "        \n",
    "        for i in high_cardinal:\n",
    "            _count = MEstimateEncoder(m=3.5, cols=i)\n",
    "            _count.fit(x_train[i], y_train)\n",
    "            \n",
    "            x_train[i] =  _count.transform(x_train[i]) \n",
    "            x_val[i] = _count.transform(x_val[i]) \n",
    "            x_test[i] = _count.transform(x_test[i]) \n",
    "            \n",
    "            print(x_test[i])\n",
    "            '''\n",
    "    \n",
    "        #print(df1['POSTAL_CODE'])\n",
    "        \n",
    "        \n",
    "        #light = lgb.LGBMClassifier(**params_lgb)\n",
    "        model = cat.CatBoostClassifier(**params_cat)\n",
    "        \n",
    "        #light.fit(x_train, y_train, eval_set=(x_val, y_val), categorical_feature=[ 'GENDER', 'DRIVING_EXPERIENCE', 'TYPE_OF_VEHICLE','POSTAL_CODE'], \n",
    "        #          early_stopping_rounds = 100, verbose=10)\n",
    "        \n",
    "        #model = cat.CatBoostRegressor(loss_function='MAPE', learning_rate=0.3, cat_features=[13],random_seed=42, max_depth=10, l2_leaf_reg=0.8,min_data_in_leaf=500 )\n",
    "        \n",
    "        \n",
    "        model.fit(x_train, y_train, early_stopping_rounds=100, verbose=500, plot=True,eval_set=(x_val, y_val),use_best_model=True)\n",
    "        \n",
    "        \n",
    "        #light_val = light.predict_proba(x_val)[:,1]\n",
    "        val = model.predict_proba(x_val)[:,1]\n",
    "        \n",
    "        \n",
    "        print(f' current fold log loss is {log_loss(y_val,val)}')\n",
    "        \n",
    "        \n",
    "        \n",
    "        \n",
    "        oof_predictions[val_ind] =  val\n",
    "        #oof_predictions1[val_ind] =  light_val\n",
    "        \n",
    "        \n",
    "        # Predict the test set\n",
    "        \n",
    "        #light_pred = light.predict_proba(x_test)[:,1]\n",
    "        pred = model.predict_proba(x_test)[:,1]\n",
    "        \n",
    "        \n",
    "        '''\n",
    "        plt.figure(figsize=(12,6))\n",
    "        lgb.plot_importance(light, max_num_features=30)\n",
    "        plt.title(\"Feature importance\")\n",
    "        plt.show()\n",
    "        '''\n",
    "        \n",
    "        plot_feature_importance(model.get_feature_importance(), x.columns, 'CATBOOST')\n",
    "        \n",
    "        test_predictions += pred\n",
    "        #test_predictions1 += light_pred\n",
    "        \n",
    "        \n",
    "        \n",
    "        \n",
    "    \n",
    "    mean_score = log_loss(y, oof_predictions)\n",
    "    #mean_score1 = log_loss(y, oof_predictions1)\n",
    "    \n",
    "    \n",
    "    print(f'Our out of folds log loss for catboost is {mean_score}')\n",
    "    #print(f'Our out of folds log loss for  lightgbm is {mean_score1}')\n",
    "    \n",
    "    \n",
    "    \n",
    "    \n",
    "    if _eval:\n",
    "        return mean_score, oof_predictions\n",
    "    else:\n",
    "        return oof_predictions, [x/5 for x in test_predictions]"
   ]
  },
  {
   "cell_type": "code",
   "execution_count": 151,
   "id": "a2778580-0be8-401c-8492-782de30ae179",
   "metadata": {},
   "outputs": [],
   "source": [
    "def train_with_light(train, test=None,  _eval=True):\n",
    "    \n",
    "    params_lgb = {\n",
    "        #num_iterations': 1000,\n",
    "        'n_estimators': 3000,\n",
    "        'learning_rate': 0.1,\n",
    "        'objective':'binary',\n",
    "        'metric':'binary_logloss',\n",
    "        #'num_leaves':500,\n",
    "        \n",
    "        #'lambda_l2':2,\n",
    "        #'lambda_l1':3,\n",
    "        #'min_gain_to_split': 5,\n",
    "        #'min_data_in_leaf': 100,\n",
    "        \n",
    "        #'bagging_fraction': 0.7,\n",
    "        #'feature_fraction': 0.9,\n",
    "        #'min_gain_to_split': 40,\n",
    "        \n",
    "        'seed':42,\n",
    "        #'device':'gpu'\n",
    "        \n",
    "    }\n",
    "    \n",
    "    \n",
    "    \n",
    "    # Split features and target\n",
    "    x = train.drop(['ID','OUTCOME'],axis=1)\n",
    "    y = train['OUTCOME']\n",
    "    x_test = test.drop(['ID'], axis=1)\n",
    "    \n",
    "    \n",
    "    \n",
    "    \n",
    "    #print(x.shape[0])\n",
    "    # Create out of folds array\n",
    "    oof_predictions = np.zeros(x.shape[0])\n",
    "    #oof_predictions1 = np.zeros(x.shape[0])\n",
    "    # Create test array to store predictions\n",
    "    test_predictions = np.zeros(x_test.shape[0])\n",
    "    #test_predictions1 = np.zeros(x_test.shape[0])\n",
    "    # Create a KFold object\n",
    "    \n",
    "    kfold = StratifiedKFold(n_splits = 5, random_state=42, shuffle=True)\n",
    "    \n",
    "    \n",
    "    # Iterate through each fold\n",
    "    for fold , (trn_ind, val_ind) in enumerate(kfold.split(x,y)):\n",
    "        #print(\"TRAIN:\", trn_ind, \"TEST:\", val_ind)\n",
    "        print(f'Training fold {fold + 1}')\n",
    "        x_train, x_val = x.iloc[trn_ind], x.iloc[val_ind]\n",
    "        y_train, y_val = y.iloc[trn_ind], y.iloc[val_ind]\n",
    "        \n",
    "        \n",
    "        \n",
    "        \n",
    "       \n",
    "        #train_dataset = lgb.Dataset(x_train, y_train,  categorical_feature = [ 'GENDER', 'DRIVING_EXPERIENCE', 'TYPE_OF_VEHICLE','POSTAL_CODE'])\n",
    "        #val_dataset = lgb.Dataset(x_val, y_val,  categorical_feature = [ 'GENDER', 'DRIVING_EXPERIENCE', 'TYPE_OF_VEHICLE','POSTAL_CODE'])\n",
    "       \n",
    "        \n",
    "        \n",
    "        '''\n",
    "        \n",
    "        model = lgb.train(params = params_lgb, \n",
    "                    train_set = train_dataset, \n",
    "                    valid_sets =  [train_dataset,val_dataset], \n",
    "                    num_boost_round = 1000,\n",
    "                    early_stopping_rounds = 100,\n",
    "                    verbose_eval = 500\n",
    "                    )\n",
    "       '''\n",
    "        \n",
    "        light = lgb.LGBMClassifier(**params_lgb)\n",
    "        #model = cat.CatBoostClassifier(learning_rate=0.1, iterations=3000,objective='Logloss', random_seed=42, \n",
    "        #                               max_depth=7)\n",
    "        \n",
    "        light.fit(x_train, y_train, eval_set=(x_val, y_val), categorical_feature=['POSTAL_CODE'], \n",
    "                  early_stopping_rounds = 100, verbose=10)\n",
    "        \n",
    "        #model = cat.CatBoostRegressor(loss_function='MAPE', learning_rate=0.3, cat_features=[13],random_seed=42, max_depth=10, l2_leaf_reg=0.8,min_data_in_leaf=500 )\n",
    "        \n",
    "        \n",
    "        #model.fit(x_train, y_train, cat_features=[0,1,6,11],early_stopping_rounds=100, verbose=500, plot=True,eval_set=(x_val, y_val),use_best_model=True)\n",
    "        \n",
    "        \n",
    "        val = light.predict_proba(x_val)[:,1]\n",
    "        #val = model.predict_proba(x_val)[:,1]\n",
    "        \n",
    "        \n",
    "        print(f' current fold log loss is {log_loss(y_val,val)}')\n",
    "        \n",
    "        \n",
    "        \n",
    "        \n",
    "        oof_predictions[val_ind] =  val\n",
    "        #oof_predictions1[val_ind] =  light_val\n",
    "        \n",
    "        \n",
    "        # Predict the test set\n",
    "        \n",
    "        pred = light.predict_proba(x_test)[:,1]\n",
    "       # pred = model.predict_proba(x_test)[:,1]\n",
    "        \n",
    "        \n",
    "        \n",
    "        plt.figure(figsize=(12,6))\n",
    "        lgb.plot_importance(light, max_num_features=30)\n",
    "        plt.title(\"Feature importance\")\n",
    "        plt.show()\n",
    "        \n",
    "        \n",
    "        #plot_feature_importance(model.get_feature_importance(), x.columns, 'CATBOOST')\n",
    "        \n",
    "        test_predictions += pred\n",
    "        #test_predictions1 += light_pred\n",
    "        \n",
    "        \n",
    "        \n",
    "        \n",
    "    \n",
    "    mean_score = log_loss(y, oof_predictions)\n",
    "    #mean_score1 = log_loss(y, oof_predictions1)\n",
    "    \n",
    "    \n",
    "    print(f'Our out of folds log loss for catboost is {mean_score}')\n",
    "    #print(f'Our out of folds log loss for  lightgbm is {mean_score1}')\n",
    "    \n",
    "    \n",
    "    \n",
    "    \n",
    "    if _eval:\n",
    "        return mean_score, oof_predictions\n",
    "    else:\n",
    "        return oof_predictions, [x/5 for x in test_predictions]"
   ]
  },
  {
   "cell_type": "code",
   "execution_count": 152,
   "id": "7e4d80d3-b230-468b-8836-e461d7715710",
   "metadata": {},
   "outputs": [
    {
     "name": "stdout",
     "output_type": "stream",
     "text": [
      "Training fold 1\n"
     ]
    },
    {
     "data": {
      "application/vnd.jupyter.widget-view+json": {
       "model_id": "66f224b244dd45298c1821c4f318edee",
       "version_major": 2,
       "version_minor": 0
      },
      "text/plain": [
       "MetricVisualizer(layout=Layout(align_self='stretch', height='500px'))"
      ]
     },
     "metadata": {},
     "output_type": "display_data"
    },
    {
     "name": "stdout",
     "output_type": "stream",
     "text": [
      "0:\tlearn: 0.6919369\ttest: 0.6919664\tbest: 0.6919664 (0)\ttotal: 47.8ms\tremaining: 2m 23s\n",
      "Stopped by overfitting detector  (100 iterations wait)\n",
      "\n",
      "bestTest = 0.681385529\n",
      "bestIteration = 54\n",
      "\n",
      "Shrink model to first 55 iterations.\n",
      " current fold log loss is 0.6813855290381491\n",
      "Training fold 2\n"
     ]
    },
    {
     "data": {
      "application/vnd.jupyter.widget-view+json": {
       "model_id": "1802b7cbd3524ec2919b2aabadbc187e",
       "version_major": 2,
       "version_minor": 0
      },
      "text/plain": [
       "MetricVisualizer(layout=Layout(align_self='stretch', height='500px'))"
      ]
     },
     "metadata": {},
     "output_type": "display_data"
    },
    {
     "name": "stdout",
     "output_type": "stream",
     "text": [
      "0:\tlearn: 0.6919435\ttest: 0.6919545\tbest: 0.6919545 (0)\ttotal: 56.5ms\tremaining: 2m 49s\n",
      "Stopped by overfitting detector  (100 iterations wait)\n",
      "\n",
      "bestTest = 0.6810465442\n",
      "bestIteration = 50\n",
      "\n",
      "Shrink model to first 51 iterations.\n",
      " current fold log loss is 0.6810465442012251\n",
      "Training fold 3\n"
     ]
    },
    {
     "data": {
      "application/vnd.jupyter.widget-view+json": {
       "model_id": "bfcc4423e9b14603a33337fe09e0663c",
       "version_major": 2,
       "version_minor": 0
      },
      "text/plain": [
       "MetricVisualizer(layout=Layout(align_self='stretch', height='500px'))"
      ]
     },
     "metadata": {},
     "output_type": "display_data"
    },
    {
     "name": "stdout",
     "output_type": "stream",
     "text": [
      "0:\tlearn: 0.6919311\ttest: 0.6919584\tbest: 0.6919584 (0)\ttotal: 32.3ms\tremaining: 1m 36s\n",
      "Stopped by overfitting detector  (100 iterations wait)\n",
      "\n",
      "bestTest = 0.6809704492\n",
      "bestIteration = 65\n",
      "\n",
      "Shrink model to first 66 iterations.\n",
      " current fold log loss is 0.6809704491783888\n",
      "Training fold 4\n"
     ]
    },
    {
     "data": {
      "application/vnd.jupyter.widget-view+json": {
       "model_id": "224192fa42304a7cbe89a0eac015a205",
       "version_major": 2,
       "version_minor": 0
      },
      "text/plain": [
       "MetricVisualizer(layout=Layout(align_self='stretch', height='500px'))"
      ]
     },
     "metadata": {},
     "output_type": "display_data"
    },
    {
     "name": "stdout",
     "output_type": "stream",
     "text": [
      "0:\tlearn: 0.6919318\ttest: 0.6919693\tbest: 0.6919693 (0)\ttotal: 42.4ms\tremaining: 2m 7s\n",
      "Stopped by overfitting detector  (100 iterations wait)\n",
      "\n",
      "bestTest = 0.6811174832\n",
      "bestIteration = 66\n",
      "\n",
      "Shrink model to first 67 iterations.\n",
      " current fold log loss is 0.6811174832118065\n",
      "Training fold 5\n"
     ]
    },
    {
     "data": {
      "application/vnd.jupyter.widget-view+json": {
       "model_id": "9e099f9dd82e44fea274ad1e01a4a27b",
       "version_major": 2,
       "version_minor": 0
      },
      "text/plain": [
       "MetricVisualizer(layout=Layout(align_self='stretch', height='500px'))"
      ]
     },
     "metadata": {},
     "output_type": "display_data"
    },
    {
     "name": "stdout",
     "output_type": "stream",
     "text": [
      "0:\tlearn: 0.6919313\ttest: 0.6919785\tbest: 0.6919785 (0)\ttotal: 51ms\tremaining: 2m 33s\n",
      "Stopped by overfitting detector  (100 iterations wait)\n",
      "\n",
      "bestTest = 0.6811192292\n",
      "bestIteration = 55\n",
      "\n",
      "Shrink model to first 56 iterations.\n",
      " current fold log loss is 0.6811192292308899\n",
      "Our out of folds log loss for catboost is 0.6811278469720919\n"
     ]
    },
    {
     "data": {
      "image/png": "[encoded data removed]",
      "text/plain": [
       "<Figure size 720x576 with 1 Axes>"
      ]
     },
     "metadata": {
      "needs_background": "light"
     },
     "output_type": "display_data"
    },
    {
     "data": {
      "image/png": "[encoded data removed]",
      "text/plain": [
       "<Figure size 720x576 with 1 Axes>"
      ]
     },
     "metadata": {
      "needs_background": "light"
     },
     "output_type": "display_data"
    },
    {
     "data": {
      "image/png": "[encoded data removed]",
      "text/plain": [
       "<Figure size 720x576 with 1 Axes>"
      ]
     },
     "metadata": {
      "needs_background": "light"
     },
     "output_type": "display_data"
    },
    {
     "data": {
      "image/png": "[encoded data removed]",
      "text/plain": [
       "<Figure size 720x576 with 1 Axes>"
      ]
     },
     "metadata": {
      "needs_background": "light"
     },
     "output_type": "display_data"
    },
    {
     "data": {
      "image/png": "[encoded data removed]",
      "text/plain": [
       "<Figure size 720x576 with 1 Axes>"
      ]
     },
     "metadata": {
      "needs_background": "light"
     },
     "output_type": "display_data"
    }
   ],
   "source": [
    "oof, test_pred = train_with_cat(train, test, _eval=False)"
   ]
  },
  {
   "cell_type": "code",
   "execution_count": 166,
   "id": "52518d6e-289f-411e-9462-b12dcbfbaa28",
   "metadata": {},
   "outputs": [],
   "source": [
    "train['pred'] = oof\n",
    "test['pred'] = test_pred"
   ]
  },
  {
   "cell_type": "code",
   "execution_count": 167,
   "id": "e32e7911-2479-4cea-b2fa-fe28a8124c95",
   "metadata": {},
   "outputs": [
    {
     "name": "stdout",
     "output_type": "stream",
     "text": [
      "Training fold 1\n"
     ]
    },
    {
     "name": "stderr",
     "output_type": "stream",
     "text": [
      "Custom logger is already specified. Specify more than one logger at same time is not thread safe."
     ]
    },
    {
     "data": {
      "application/vnd.jupyter.widget-view+json": {
       "model_id": "2e03777428f84c81bb85165950e27df5",
       "version_major": 2,
       "version_minor": 0
      },
      "text/plain": [
       "MetricVisualizer(layout=Layout(align_self='stretch', height='500px'))"
      ]
     },
     "metadata": {},
     "output_type": "display_data"
    },
    {
     "name": "stdout",
     "output_type": "stream",
     "text": [
      "0:\tlearn: 0.6919262\ttest: 0.6919618\tbest: 0.6919618 (0)\ttotal: 26.8ms\tremaining: 1m 20s\n",
      "Stopped by overfitting detector  (100 iterations wait)\n",
      "\n",
      "bestTest = 0.6812838587\n",
      "bestIteration = 64\n",
      "\n",
      "Shrink model to first 65 iterations.\n",
      " current fold log loss is 0.6812838587255223\n",
      "Training fold 2\n"
     ]
    },
    {
     "data": {
      "application/vnd.jupyter.widget-view+json": {
       "model_id": "172ace9f8dc046a8924f45db5ed31eb3",
       "version_major": 2,
       "version_minor": 0
      },
      "text/plain": [
       "MetricVisualizer(layout=Layout(align_self='stretch', height='500px'))"
      ]
     },
     "metadata": {},
     "output_type": "display_data"
    },
    {
     "name": "stdout",
     "output_type": "stream",
     "text": [
      "0:\tlearn: 0.6919275\ttest: 0.6919634\tbest: 0.6919634 (0)\ttotal: 40.5ms\tremaining: 2m 1s\n",
      "Stopped by overfitting detector  (100 iterations wait)\n",
      "\n",
      "bestTest = 0.6810924578\n",
      "bestIteration = 153\n",
      "\n",
      "Shrink model to first 154 iterations.\n",
      " current fold log loss is 0.6810924577885877\n",
      "Training fold 3\n"
     ]
    },
    {
     "data": {
      "application/vnd.jupyter.widget-view+json": {
       "model_id": "57fe6b0e46f143319121571032e8e9b4",
       "version_major": 2,
       "version_minor": 0
      },
      "text/plain": [
       "MetricVisualizer(layout=Layout(align_self='stretch', height='500px'))"
      ]
     },
     "metadata": {},
     "output_type": "display_data"
    },
    {
     "name": "stdout",
     "output_type": "stream",
     "text": [
      "0:\tlearn: 0.6919236\ttest: 0.6919698\tbest: 0.6919698 (0)\ttotal: 32.8ms\tremaining: 1m 38s\n",
      "Stopped by overfitting detector  (100 iterations wait)\n",
      "\n",
      "bestTest = 0.6809454964\n",
      "bestIteration = 57\n",
      "\n",
      "Shrink model to first 58 iterations.\n",
      " current fold log loss is 0.6809454964348889\n",
      "Training fold 4\n"
     ]
    },
    {
     "data": {
      "application/vnd.jupyter.widget-view+json": {
       "model_id": "fb2d8323161948e1b970a7052f220212",
       "version_major": 2,
       "version_minor": 0
      },
      "text/plain": [
       "MetricVisualizer(layout=Layout(align_self='stretch', height='500px'))"
      ]
     },
     "metadata": {},
     "output_type": "display_data"
    },
    {
     "name": "stdout",
     "output_type": "stream",
     "text": [
      "0:\tlearn: 0.6919221\ttest: 0.6919729\tbest: 0.6919729 (0)\ttotal: 21.9ms\tremaining: 1m 5s\n",
      "Stopped by overfitting detector  (100 iterations wait)\n",
      "\n",
      "bestTest = 0.6809904184\n",
      "bestIteration = 68\n",
      "\n",
      "Shrink model to first 69 iterations.\n",
      " current fold log loss is 0.6809904183523291\n",
      "Training fold 5\n"
     ]
    },
    {
     "data": {
      "application/vnd.jupyter.widget-view+json": {
       "model_id": "6929da4754e5458ca16911eab3127eac",
       "version_major": 2,
       "version_minor": 0
      },
      "text/plain": [
       "MetricVisualizer(layout=Layout(align_self='stretch', height='500px'))"
      ]
     },
     "metadata": {},
     "output_type": "display_data"
    },
    {
     "name": "stdout",
     "output_type": "stream",
     "text": [
      "0:\tlearn: 0.6919247\ttest: 0.6919725\tbest: 0.6919725 (0)\ttotal: 25.2ms\tremaining: 1m 15s\n",
      "Stopped by overfitting detector  (100 iterations wait)\n",
      "\n",
      "bestTest = 0.6811872911\n",
      "bestIteration = 64\n",
      "\n",
      "Shrink model to first 65 iterations.\n",
      " current fold log loss is 0.6811872911372335\n",
      "Our out of folds log loss for catboost is 0.6810999044877124\n"
     ]
    },
    {
     "data": {
      "image/png": "[encoded data removed]",
      "text/plain": [
       "<Figure size 720x576 with 1 Axes>"
      ]
     },
     "metadata": {
      "needs_background": "light"
     },
     "output_type": "display_data"
    },
    {
     "data": {
      "image/png": "[encoded data removed]",
      "text/plain": [
       "<Figure size 720x576 with 1 Axes>"
      ]
     },
     "metadata": {
      "needs_background": "light"
     },
     "output_type": "display_data"
    },
    {
     "data": {
      "image/png": "[encoded data removed]",
      "text/plain": [
       "<Figure size 720x576 with 1 Axes>"
      ]
     },
     "metadata": {
      "needs_background": "light"
     },
     "output_type": "display_data"
    },
    {
     "data": {
      "image/png": "[encoded data removed]",
      "text/plain": [
       "<Figure size 720x576 with 1 Axes>"
      ]
     },
     "metadata": {
      "needs_background": "light"
     },
     "output_type": "display_data"
    },
    {
     "data": {
      "image/png": "[encoded data removed]",
      "text/plain": [
       "<Figure size 720x576 with 1 Axes>"
      ]
     },
     "metadata": {
      "needs_background": "light"
     },
     "output_type": "display_data"
    }
   ],
   "source": [
    "oof1, test_pred1 = train_with_cat(train, test, _eval=False)"
   ]
  },
  {
   "cell_type": "code",
   "execution_count": null,
   "id": "1e3eebae-1931-463e-8aa0-d58906c4143a",
   "metadata": {},
   "outputs": [],
   "source": []
  },
  {
   "cell_type": "code",
   "execution_count": 54,
   "id": "5f4df601-7c1a-457d-9aa6-a55c828a9af8",
   "metadata": {},
   "outputs": [],
   "source": [
    "trainpred = pd.DataFrame({'cat':oof, 'light':oof1,'OUTCOME': train['OUTCOME'] })\n",
    "testpred = pd.DataFrame({'cat':test_pred, 'light':test_pred1})"
   ]
  },
  {
   "cell_type": "code",
   "execution_count": 41,
   "id": "ee58557e-9b33-4c59-a8dd-3f7c60957a38",
   "metadata": {},
   "outputs": [
    {
     "data": {
      "text/plain": [
       "0.6810265499695748"
      ]
     },
     "execution_count": 41,
     "metadata": {},
     "output_type": "execute_result"
    }
   ],
   "source": [
    "log_loss(train['OUTCOME'], oof)"
   ]
  },
  {
   "cell_type": "code",
   "execution_count": 55,
   "id": "13762318-d4c8-4a67-b5d8-2b7548ec6d66",
   "metadata": {},
   "outputs": [],
   "source": [
    "trainpred['mean'] = trainpred.drop(['OUTCOME'],axis=1).mean(axis=1)\n",
    "trainpred['diff'] = trainpred['cat'] - trainpred['light']\n"
   ]
  },
  {
   "cell_type": "code",
   "execution_count": 56,
   "id": "aed7b682-f448-47d4-98b7-487102c2d691",
   "metadata": {},
   "outputs": [],
   "source": [
    "testpred['mean'] = testpred.mean(axis=1)\n",
    "testpred['diff'] = testpred['cat'] - testpred['light']\n"
   ]
  },
  {
   "cell_type": "code",
   "execution_count": 57,
   "id": "53ee9d64-83c7-49bd-9ec6-7ba8755cbe9f",
   "metadata": {},
   "outputs": [
    {
     "data": {
      "text/html": [
       "<div>\n",
       "<style scoped>\n",
       "    .dataframe tbody tr th:only-of-type {\n",
       "        vertical-align: middle;\n",
       "    }\n",
       "\n",
       "    .dataframe tbody tr th {\n",
       "        vertical-align: top;\n",
       "    }\n",
       "\n",
       "    .dataframe thead th {\n",
       "        text-align: right;\n",
       "    }\n",
       "</style>\n",
       "<table border=\"1\" class=\"dataframe\">\n",
       "  <thead>\n",
       "    <tr style=\"text-align: right;\">\n",
       "      <th></th>\n",
       "      <th>cat</th>\n",
       "      <th>light</th>\n",
       "      <th>mean</th>\n",
       "      <th>diff</th>\n",
       "    </tr>\n",
       "  </thead>\n",
       "  <tbody>\n",
       "    <tr>\n",
       "      <th>0</th>\n",
       "      <td>0.422158</td>\n",
       "      <td>0.422066</td>\n",
       "      <td>0.422112</td>\n",
       "      <td>0.000092</td>\n",
       "    </tr>\n",
       "    <tr>\n",
       "      <th>1</th>\n",
       "      <td>0.439659</td>\n",
       "      <td>0.429319</td>\n",
       "      <td>0.434489</td>\n",
       "      <td>0.010339</td>\n",
       "    </tr>\n",
       "    <tr>\n",
       "      <th>2</th>\n",
       "      <td>0.414391</td>\n",
       "      <td>0.416117</td>\n",
       "      <td>0.415254</td>\n",
       "      <td>-0.001726</td>\n",
       "    </tr>\n",
       "    <tr>\n",
       "      <th>3</th>\n",
       "      <td>0.409157</td>\n",
       "      <td>0.418718</td>\n",
       "      <td>0.413938</td>\n",
       "      <td>-0.009561</td>\n",
       "    </tr>\n",
       "    <tr>\n",
       "      <th>4</th>\n",
       "      <td>0.423671</td>\n",
       "      <td>0.419037</td>\n",
       "      <td>0.421354</td>\n",
       "      <td>0.004634</td>\n",
       "    </tr>\n",
       "    <tr>\n",
       "      <th>...</th>\n",
       "      <td>...</td>\n",
       "      <td>...</td>\n",
       "      <td>...</td>\n",
       "      <td>...</td>\n",
       "    </tr>\n",
       "    <tr>\n",
       "      <th>44995</th>\n",
       "      <td>0.438840</td>\n",
       "      <td>0.430372</td>\n",
       "      <td>0.434606</td>\n",
       "      <td>0.008468</td>\n",
       "    </tr>\n",
       "    <tr>\n",
       "      <th>44996</th>\n",
       "      <td>0.424597</td>\n",
       "      <td>0.424431</td>\n",
       "      <td>0.424514</td>\n",
       "      <td>0.000166</td>\n",
       "    </tr>\n",
       "    <tr>\n",
       "      <th>44997</th>\n",
       "      <td>0.418341</td>\n",
       "      <td>0.416076</td>\n",
       "      <td>0.417209</td>\n",
       "      <td>0.002265</td>\n",
       "    </tr>\n",
       "    <tr>\n",
       "      <th>44998</th>\n",
       "      <td>0.417379</td>\n",
       "      <td>0.424408</td>\n",
       "      <td>0.420894</td>\n",
       "      <td>-0.007029</td>\n",
       "    </tr>\n",
       "    <tr>\n",
       "      <th>44999</th>\n",
       "      <td>0.415824</td>\n",
       "      <td>0.419235</td>\n",
       "      <td>0.417530</td>\n",
       "      <td>-0.003411</td>\n",
       "    </tr>\n",
       "  </tbody>\n",
       "</table>\n",
       "<p>45000 rows × 4 columns</p>\n",
       "</div>"
      ],
      "text/plain": [
       "            cat     light      mean      diff\n",
       "0      0.422158  0.422066  0.422112  0.000092\n",
       "1      0.439659  0.429319  0.434489  0.010339\n",
       "2      0.414391  0.416117  0.415254 -0.001726\n",
       "3      0.409157  0.418718  0.413938 -0.009561\n",
       "4      0.423671  0.419037  0.421354  0.004634\n",
       "...         ...       ...       ...       ...\n",
       "44995  0.438840  0.430372  0.434606  0.008468\n",
       "44996  0.424597  0.424431  0.424514  0.000166\n",
       "44997  0.418341  0.416076  0.417209  0.002265\n",
       "44998  0.417379  0.424408  0.420894 -0.007029\n",
       "44999  0.415824  0.419235  0.417530 -0.003411\n",
       "\n",
       "[45000 rows x 4 columns]"
      ]
     },
     "execution_count": 57,
     "metadata": {},
     "output_type": "execute_result"
    }
   ],
   "source": [
    "testpred"
   ]
  },
  {
   "cell_type": "code",
   "execution_count": 78,
   "id": "abec436c-71a9-4277-8c1b-5d7641768c4d",
   "metadata": {},
   "outputs": [],
   "source": [
    "def ensemble(train, test=None,  _eval=True):\n",
    "    \n",
    "    params_lgb = {\n",
    "        #num_iterations': 1000,\n",
    "        'n_estimators': 3000,\n",
    "        'learning_rate': 0.1,\n",
    "        'objective':'binary',\n",
    "        'metric':'binary_logloss',\n",
    "        #'num_leaves':500,\n",
    "        \n",
    "        #'lambda_l2':2,\n",
    "        #'lambda_l1':3,\n",
    "        #'min_gain_to_split': 5,\n",
    "        #'min_data_in_leaf': 100,\n",
    "        \n",
    "        #'bagging_fraction': 0.7,\n",
    "        #'feature_fraction': 0.9,\n",
    "        #'min_gain_to_split': 40,\n",
    "        'seed':42,\n",
    "        #'device':'gpu'\n",
    "        \n",
    "    }\n",
    "    \n",
    "    \n",
    "    \n",
    "    # Split features and target\n",
    "    x = train.drop(['OUTCOME'],axis=1)\n",
    "    y = train['OUTCOME']\n",
    "    x_test = test\n",
    "    \n",
    "    #print(x.shape[0])\n",
    "    # Create out of folds array\n",
    "    oof_predictions = np.zeros(x.shape[0])\n",
    "    #oof_predictions1 = np.zeros(x.shape[0])\n",
    "    # Create test array to store predictions\n",
    "    test_predictions = np.zeros(x_test.shape[0])\n",
    "    #test_predictions1 = np.zeros(x_test.shape[0])\n",
    "    # Create a KFold object\n",
    "    \n",
    "    kfold = KFold(n_splits = 5, random_state=42, shuffle=True)\n",
    "    \n",
    "    \n",
    "    # Iterate through each fold\n",
    "    for fold , (trn_ind, val_ind) in enumerate(kfold.split(x)):\n",
    "        #print(\"TRAIN:\", trn_ind, \"TEST:\", val_ind)\n",
    "        print(f'Training fold {fold + 1}')\n",
    "        x_train, x_val = x.iloc[trn_ind], x.iloc[val_ind]\n",
    "        y_train, y_val = y.iloc[trn_ind], y.iloc[val_ind]\n",
    "        \n",
    "        \n",
    "        \n",
    "        \n",
    "       \n",
    "        #train_dataset = lgb.Dataset(x_train, y_train,  categorical_feature = [ 'GENDER', 'DRIVING_EXPERIENCE', 'TYPE_OF_VEHICLE'])\n",
    "        #val_dataset = lgb.Dataset(x_val, y_val,  categorical_feature = [ 'GENDER', 'DRIVING_EXPERIENCE', 'TYPE_OF_VEHICLE'])\n",
    "       \n",
    "        \n",
    "        \n",
    "        '''\n",
    "        \n",
    "        model = lgb.train(params = params_lgb, \n",
    "                    train_set = train_dataset, \n",
    "                    valid_sets =  [train_dataset,val_dataset], \n",
    "                    num_boost_round = 1000,\n",
    "                    early_stopping_rounds = 100,\n",
    "                    verbose_eval = 500\n",
    "                    )\n",
    "       '''\n",
    "        model  = LogisticRegression(random_state=42)\n",
    "        #light = lgb.LGBMClassifier(**params_lgb)\n",
    "        #model = cat.CatBoostClassifier(learning_rate=0.1, iterations=3000,objective='Logloss', random_seed=42, max_depth=7)\n",
    "        \n",
    "        #light.fit(x_train, y_train, eval_set=(x_val, y_val), categorical_feature=[ 'GENDER', 'DRIVING_EXPERIENCE', 'TYPE_OF_VEHICLE'], \n",
    "        #          early_stopping_rounds = 100, verbose=10)\n",
    "        \n",
    "        #model = cat.CatBoostRegressor(loss_function='MAPE', learning_rate=0.3, cat_features=[13],random_seed=42, max_depth=10, l2_leaf_reg=0.8,min_data_in_leaf=500 )\n",
    "        \n",
    "        \n",
    "        #model.fit(x_train, y_train, cat_features=[0,1,11],early_stopping_rounds=100, verbose=500, plot=True,eval_set=(x_val, y_val),use_best_model=True)\n",
    "        \n",
    "        model.fit(x_train, y_train)\n",
    "        #light_val = light.predict_proba(x_val)[:,1]\n",
    "        val = model.predict_proba(x_val)[:,1]\n",
    "        \n",
    "        \n",
    "        print(f' current fold log loss is {log_loss(y_val,val)}')\n",
    "        \n",
    "        \n",
    "        \n",
    "        \n",
    "        oof_predictions[val_ind] =  val\n",
    "        #oof_predictions1[val_ind] =  light_val\n",
    "        \n",
    "        \n",
    "        # Predict the test set\n",
    "        \n",
    "        #light_pred = light.predict_proba(x_test)[:,1]\n",
    "        pred = model.predict_proba(x_test)[:,1]\n",
    "        \n",
    "        \n",
    "        '''\n",
    "        plt.figure(figsize=(12,6))\n",
    "        cat.plot_importance(model, max_num_features=30)\n",
    "        plt.title(\"Feature importance\")\n",
    "        plt.show()\n",
    "        '''\n",
    "        \n",
    "        #plot_feature_importance(model.get_feature_importance(), x.columns, 'CATBOOST')\n",
    "        \n",
    "        test_predictions += pred\n",
    "        #test_predictions1 += light_pred\n",
    "        \n",
    "        \n",
    "        \n",
    "        \n",
    "    \n",
    "    mean_score = log_loss(y, oof_predictions)\n",
    "    \n",
    "    print(f'Our out of folds log loss is {mean_score}')\n",
    "    \n",
    "    \n",
    "    \n",
    "    \n",
    "    if _eval:\n",
    "        return mean_score, oof_predictions\n",
    "    else:\n",
    "        return oof_predictions, [x/5 for x in test_predictions]"
   ]
  },
  {
   "cell_type": "code",
   "execution_count": 77,
   "id": "f55f36ef-ba35-4d27-96db-0f80fa0a4050",
   "metadata": {},
   "outputs": [
    {
     "name": "stdout",
     "output_type": "stream",
     "text": [
      "Training fold 1\n",
      " current fold log loss is 0.6816735311451537\n",
      "Training fold 2\n",
      " current fold log loss is 0.6821815952399823\n",
      "Training fold 3\n",
      " current fold log loss is 0.6824290647113386\n",
      "Training fold 4\n",
      " current fold log loss is 0.682626097741874\n",
      "Training fold 5\n",
      " current fold log loss is 0.6797955578697367\n",
      "Our out of folds log loss is 0.681741169341617\n"
     ]
    }
   ],
   "source": [
    "oof3, test_pred3 = ensemble(trainpred, testpred, _eval=False)"
   ]
  },
  {
   "cell_type": "code",
   "execution_count": null,
   "id": "0f34ae5a-7cfe-4df9-a4de-e9f788e36c28",
   "metadata": {},
   "outputs": [],
   "source": []
  },
  {
   "cell_type": "code",
   "execution_count": 171,
   "id": "355aa87e-eedb-4f11-8155-b6b54ff0cb94",
   "metadata": {},
   "outputs": [],
   "source": [
    "submission = pd.DataFrame({\"pred\":test_pred,\"pred1\": test_pred1})\n",
    "#submission.to_csv('submission_v17.csv', index=False)"
   ]
  },
  {
   "cell_type": "code",
   "execution_count": 173,
   "id": "1a8dfe31-5eb9-4d32-9f13-a9439201378c",
   "metadata": {},
   "outputs": [],
   "source": [
    "submission['OUTCOME'] = submission['pred'] * 0.5 + submission['pred1'] * 0.5"
   ]
  },
  {
   "cell_type": "code",
   "execution_count": 175,
   "id": "282858b4-357e-4bd3-981b-e822527ffd04",
   "metadata": {},
   "outputs": [],
   "source": [
    "submission['OUTCOME'].to_csv('submission_v18.csv', index=False)"
   ]
  },
  {
   "cell_type": "code",
   "execution_count": 31,
   "id": "7d99bb98-591e-497a-90f0-b6e96922fbfa",
   "metadata": {},
   "outputs": [
    {
     "data": {
      "text/plain": [
       "(45000, 1)"
      ]
     },
     "execution_count": 31,
     "metadata": {},
     "output_type": "execute_result"
    }
   ],
   "source": [
    "submission.shape"
   ]
  },
  {
   "cell_type": "code",
   "execution_count": 20,
   "id": "0eaeddae-95ce-4ede-9e0d-af8d5335db31",
   "metadata": {},
   "outputs": [],
   "source": [
    "sample = pd.read_csv('submission.csv')"
   ]
  },
  {
   "cell_type": "code",
   "execution_count": 21,
   "id": "fd66b59d-43cb-449b-9cb0-14160aa101fa",
   "metadata": {},
   "outputs": [
    {
     "data": {
      "text/plain": [
       "(45000, 1)"
      ]
     },
     "execution_count": 21,
     "metadata": {},
     "output_type": "execute_result"
    }
   ],
   "source": [
    "sample.shape"
   ]
  },
  {
   "cell_type": "code",
   "execution_count": 22,
   "id": "4db720ef-553a-4825-b703-e74be5d5c3ac",
   "metadata": {},
   "outputs": [
    {
     "data": {
      "text/plain": [
       "(45000, 17)"
      ]
     },
     "execution_count": 22,
     "metadata": {},
     "output_type": "execute_result"
    }
   ],
   "source": [
    "test.shape"
   ]
  },
  {
   "cell_type": "code",
   "execution_count": 23,
   "id": "d88dc26d-b32e-481c-b526-1d0669abe674",
   "metadata": {},
   "outputs": [
    {
     "data": {
      "text/plain": [
       "(45000, 2)"
      ]
     },
     "execution_count": 23,
     "metadata": {},
     "output_type": "execute_result"
    }
   ],
   "source": [
    "testpred.shape"
   ]
  },
  {
   "cell_type": "code",
   "execution_count": 27,
   "id": "2fb129e2-0bb9-4aa3-a115-b85f2db953e4",
   "metadata": {},
   "outputs": [
    {
     "data": {
      "text/plain": [
       "21000.0"
      ]
     },
     "execution_count": 27,
     "metadata": {},
     "output_type": "execute_result"
    }
   ],
   "source": []
  },
  {
   "cell_type": "code",
   "execution_count": null,
   "id": "121fb6ec-c2e6-421d-ab7e-5f6614eee813",
   "metadata": {},
   "outputs": [],
   "source": []
  }
 ],
 "metadata": {
  "kernelspec": {
   "display_name": "Python 3 (ipykernel)",
   "language": "python",
   "name": "python3"
  },
  "language_info": {
   "codemirror_mode": {
    "name": "ipython",
    "version": 3
   },
   "file_extension": ".py",
   "mimetype": "text/x-python",
   "name": "python",
   "nbconvert_exporter": "python",
   "pygments_lexer": "ipython3",
   "version": "3.9.6"
  }
 },
 "nbformat": 4,
 "nbformat_minor": 5
}
